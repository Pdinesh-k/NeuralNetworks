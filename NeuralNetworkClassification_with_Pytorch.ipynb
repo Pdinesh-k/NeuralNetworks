{
  "nbformat": 4,
  "nbformat_minor": 0,
  "metadata": {
    "colab": {
      "provenance": []
    },
    "kernelspec": {
      "name": "python3",
      "display_name": "Python 3"
    },
    "language_info": {
      "name": "python"
    }
  },
  "cells": [
    {
      "cell_type": "code",
      "execution_count": 1,
      "metadata": {
        "id": "wXhg4ujBKpn2"
      },
      "outputs": [],
      "source": [
        "import torch\n",
        "import torch.nn as nn\n",
        "from torch.utils.data import Dataset , DataLoader\n",
        "import pandas as pd"
      ]
    },
    {
      "cell_type": "markdown",
      "source": [
        "Importing the Dataset"
      ],
      "metadata": {
        "id": "_Agw5QKXhkDA"
      }
    },
    {
      "cell_type": "code",
      "source": [
        "from sklearn.datasets import make_circles"
      ],
      "metadata": {
        "id": "wecpD8M1frn5"
      },
      "execution_count": 2,
      "outputs": []
    },
    {
      "cell_type": "code",
      "source": [
        "make_circles"
      ],
      "metadata": {
        "colab": {
          "base_uri": "https://localhost:8080/",
          "height": 187
        },
        "id": "KS6cBo49hbxS",
        "outputId": "31992d70-305b-4ba8-8ee4-aac5b50f9711"
      },
      "execution_count": 3,
      "outputs": [
        {
          "output_type": "execute_result",
          "data": {
            "text/plain": [
              "<function sklearn.datasets._samples_generator.make_circles(n_samples=100, *, shuffle=True, noise=None, random_state=None, factor=0.8)>"
            ],
            "text/html": [
              "<div style=\"max-width:800px; border: 1px solid var(--colab-border-color);\"><style>\n",
              "      pre.function-repr-contents {\n",
              "        overflow-x: auto;\n",
              "        padding: 8px 12px;\n",
              "        max-height: 500px;\n",
              "      }\n",
              "\n",
              "      pre.function-repr-contents.function-repr-contents-collapsed {\n",
              "        cursor: pointer;\n",
              "        max-height: 100px;\n",
              "      }\n",
              "    </style>\n",
              "    <pre style=\"white-space: initial; background:\n",
              "         var(--colab-secondary-surface-color); padding: 8px 12px;\n",
              "         border-bottom: 1px solid var(--colab-border-color);\"><b>sklearn.datasets._samples_generator.make_circles</b><br/>def make_circles(n_samples=100, *, shuffle=True, noise=None, random_state=None, factor=0.8)</pre><pre class=\"function-repr-contents function-repr-contents-collapsed\" style=\"\"><a class=\"filepath\" style=\"display:none\" href=\"#\">/usr/local/lib/python3.10/dist-packages/sklearn/datasets/_samples_generator.py</a>Make a large circle containing a smaller circle in 2d.\n",
              "\n",
              "A simple toy dataset to visualize clustering and classification\n",
              "algorithms.\n",
              "\n",
              "Read more in the :ref:`User Guide &lt;sample_generators&gt;`.\n",
              "\n",
              "Parameters\n",
              "----------\n",
              "n_samples : int or tuple of shape (2,), dtype=int, default=100\n",
              "    If int, it is the total number of points generated.\n",
              "    For odd numbers, the inner circle will have one point more than the\n",
              "    outer circle.\n",
              "    If two-element tuple, number of points in outer circle and inner\n",
              "    circle.\n",
              "\n",
              "    .. versionchanged:: 0.23\n",
              "       Added two-element tuple.\n",
              "\n",
              "shuffle : bool, default=True\n",
              "    Whether to shuffle the samples.\n",
              "\n",
              "noise : float, default=None\n",
              "    Standard deviation of Gaussian noise added to the data.\n",
              "\n",
              "random_state : int, RandomState instance or None, default=None\n",
              "    Determines random number generation for dataset shuffling and noise.\n",
              "    Pass an int for reproducible output across multiple function calls.\n",
              "    See :term:`Glossary &lt;random_state&gt;`.\n",
              "\n",
              "factor : float, default=.8\n",
              "    Scale factor between inner and outer circle in the range `(0, 1)`.\n",
              "\n",
              "Returns\n",
              "-------\n",
              "X : ndarray of shape (n_samples, 2)\n",
              "    The generated samples.\n",
              "\n",
              "y : ndarray of shape (n_samples,)\n",
              "    The integer labels (0 or 1) for class membership of each sample.</pre>\n",
              "      <script>\n",
              "      if (google.colab.kernel.accessAllowed && google.colab.files && google.colab.files.view) {\n",
              "        for (const element of document.querySelectorAll('.filepath')) {\n",
              "          element.style.display = 'block'\n",
              "          element.onclick = (event) => {\n",
              "            event.preventDefault();\n",
              "            event.stopPropagation();\n",
              "            google.colab.files.view(element.textContent, 654);\n",
              "          };\n",
              "        }\n",
              "      }\n",
              "      for (const element of document.querySelectorAll('.function-repr-contents')) {\n",
              "        element.onclick = (event) => {\n",
              "          event.preventDefault();\n",
              "          event.stopPropagation();\n",
              "          element.classList.toggle('function-repr-contents-collapsed');\n",
              "        };\n",
              "      }\n",
              "      </script>\n",
              "      </div>"
            ]
          },
          "metadata": {},
          "execution_count": 3
        }
      ]
    },
    {
      "cell_type": "code",
      "source": [
        "n_samples = 1000"
      ],
      "metadata": {
        "id": "6xG0CD9Ih0DI"
      },
      "execution_count": 4,
      "outputs": []
    },
    {
      "cell_type": "markdown",
      "source": [
        "Defining the input and output variable"
      ],
      "metadata": {
        "id": "tunaZRPjiE1c"
      }
    },
    {
      "cell_type": "code",
      "source": [
        "X,y = make_circles(n_samples , noise = 0.03 , shuffle = True )"
      ],
      "metadata": {
        "id": "UEtsAlsGhrGO"
      },
      "execution_count": 5,
      "outputs": []
    },
    {
      "cell_type": "code",
      "source": [
        "X"
      ],
      "metadata": {
        "colab": {
          "base_uri": "https://localhost:8080/"
        },
        "id": "KE51MClih8yo",
        "outputId": "516f3679-4972-4907-c94d-581b621fd8b1"
      },
      "execution_count": 6,
      "outputs": [
        {
          "output_type": "execute_result",
          "data": {
            "text/plain": [
              "array([[ 0.49471828, -0.65781194],\n",
              "       [ 0.88671537, -0.35065095],\n",
              "       [ 0.05607902,  0.78284366],\n",
              "       ...,\n",
              "       [ 0.43195099,  0.72662444],\n",
              "       [-0.84279774,  0.54948619],\n",
              "       [ 0.45303983,  0.89235327]])"
            ]
          },
          "metadata": {},
          "execution_count": 6
        }
      ]
    },
    {
      "cell_type": "code",
      "source": [
        "y"
      ],
      "metadata": {
        "colab": {
          "base_uri": "https://localhost:8080/"
        },
        "id": "or2UsrRIiA8l",
        "outputId": "9cac5a40-786f-4544-8a0c-b7283781c52c"
      },
      "execution_count": 7,
      "outputs": [
        {
          "output_type": "execute_result",
          "data": {
            "text/plain": [
              "array([1, 0, 1, 0, 1, 1, 1, 1, 0, 0, 1, 1, 0, 0, 0, 1, 0, 0, 0, 0, 0, 0,\n",
              "       1, 1, 0, 0, 1, 0, 1, 1, 0, 0, 0, 0, 1, 1, 1, 1, 1, 1, 1, 1, 0, 1,\n",
              "       0, 0, 1, 1, 0, 1, 1, 1, 0, 1, 1, 1, 0, 0, 1, 1, 0, 1, 1, 0, 1, 1,\n",
              "       0, 0, 0, 1, 1, 1, 0, 0, 1, 0, 1, 0, 0, 0, 0, 1, 1, 0, 1, 1, 1, 0,\n",
              "       0, 0, 1, 0, 0, 0, 0, 0, 0, 0, 1, 1, 0, 1, 1, 0, 0, 1, 1, 1, 1, 1,\n",
              "       0, 1, 1, 1, 1, 0, 0, 1, 0, 1, 1, 0, 1, 1, 0, 1, 0, 1, 1, 0, 0, 0,\n",
              "       1, 1, 0, 1, 1, 1, 0, 0, 0, 1, 1, 1, 1, 0, 1, 1, 0, 1, 1, 0, 1, 0,\n",
              "       1, 1, 1, 1, 0, 1, 1, 1, 1, 0, 0, 0, 1, 0, 0, 0, 0, 0, 0, 1, 0, 0,\n",
              "       0, 1, 0, 0, 0, 1, 1, 1, 0, 0, 0, 1, 0, 1, 1, 1, 1, 0, 0, 1, 1, 1,\n",
              "       0, 1, 0, 1, 0, 0, 0, 1, 0, 0, 0, 0, 0, 0, 1, 0, 0, 1, 0, 0, 0, 0,\n",
              "       0, 1, 0, 0, 1, 0, 0, 0, 0, 1, 1, 0, 1, 1, 0, 0, 0, 0, 1, 1, 1, 0,\n",
              "       0, 1, 1, 1, 0, 0, 1, 1, 0, 1, 0, 0, 0, 0, 0, 1, 1, 1, 1, 0, 1, 0,\n",
              "       0, 0, 0, 1, 1, 1, 0, 0, 1, 1, 1, 0, 0, 0, 0, 1, 1, 1, 1, 0, 0, 1,\n",
              "       0, 1, 0, 0, 1, 0, 0, 0, 0, 0, 0, 0, 1, 1, 1, 0, 1, 0, 1, 1, 0, 0,\n",
              "       1, 1, 0, 1, 1, 1, 1, 0, 0, 1, 1, 1, 0, 0, 1, 0, 0, 0, 1, 0, 1, 1,\n",
              "       0, 0, 1, 1, 1, 0, 1, 0, 1, 0, 1, 0, 0, 0, 0, 0, 1, 1, 0, 1, 1, 1,\n",
              "       0, 0, 1, 1, 0, 1, 0, 0, 0, 0, 1, 0, 1, 1, 0, 0, 1, 1, 0, 0, 1, 0,\n",
              "       1, 0, 0, 1, 1, 0, 1, 1, 1, 0, 0, 0, 1, 0, 0, 0, 1, 1, 1, 1, 0, 1,\n",
              "       1, 1, 1, 1, 1, 0, 1, 0, 0, 1, 0, 0, 0, 0, 0, 0, 1, 0, 0, 1, 1, 0,\n",
              "       1, 1, 0, 1, 1, 1, 1, 1, 1, 0, 1, 0, 0, 1, 1, 1, 0, 0, 1, 0, 1, 0,\n",
              "       0, 1, 1, 1, 0, 1, 1, 0, 1, 0, 0, 1, 0, 1, 1, 1, 0, 0, 1, 1, 1, 1,\n",
              "       1, 0, 1, 0, 0, 0, 1, 0, 0, 1, 0, 0, 1, 1, 1, 0, 1, 0, 1, 0, 1, 0,\n",
              "       1, 0, 0, 0, 1, 1, 0, 1, 1, 0, 0, 0, 1, 1, 0, 1, 1, 1, 0, 0, 1, 1,\n",
              "       1, 1, 0, 0, 0, 0, 1, 0, 0, 0, 0, 0, 1, 0, 1, 0, 1, 0, 0, 1, 0, 1,\n",
              "       1, 0, 1, 0, 0, 0, 0, 0, 0, 1, 0, 0, 0, 1, 1, 0, 1, 1, 1, 1, 1, 1,\n",
              "       0, 1, 1, 1, 1, 0, 0, 1, 1, 1, 1, 0, 1, 1, 0, 1, 1, 1, 0, 0, 1, 0,\n",
              "       0, 0, 1, 0, 1, 0, 0, 1, 1, 1, 1, 0, 0, 0, 1, 1, 1, 0, 1, 0, 1, 1,\n",
              "       1, 0, 1, 1, 1, 0, 1, 1, 0, 1, 0, 1, 0, 0, 0, 0, 0, 1, 1, 1, 0, 0,\n",
              "       0, 1, 1, 1, 1, 0, 0, 0, 0, 0, 0, 0, 1, 0, 1, 1, 0, 1, 0, 1, 0, 1,\n",
              "       1, 1, 0, 1, 0, 1, 0, 1, 1, 1, 1, 0, 0, 1, 1, 0, 0, 0, 1, 0, 0, 0,\n",
              "       1, 1, 1, 0, 0, 1, 1, 0, 1, 0, 1, 0, 1, 0, 0, 0, 0, 1, 1, 1, 1, 0,\n",
              "       0, 0, 1, 0, 1, 0, 1, 1, 1, 0, 1, 1, 0, 0, 1, 1, 1, 1, 0, 0, 1, 0,\n",
              "       0, 0, 0, 1, 1, 0, 1, 1, 0, 0, 1, 1, 0, 1, 1, 1, 1, 0, 0, 1, 0, 1,\n",
              "       1, 0, 1, 1, 1, 1, 1, 1, 0, 0, 0, 0, 0, 0, 0, 0, 1, 1, 0, 1, 1, 0,\n",
              "       1, 1, 0, 1, 1, 1, 0, 1, 0, 1, 0, 1, 0, 0, 0, 0, 1, 0, 0, 1, 0, 0,\n",
              "       0, 0, 1, 1, 1, 0, 1, 1, 0, 1, 0, 1, 0, 1, 1, 0, 1, 0, 1, 1, 1, 1,\n",
              "       1, 0, 0, 1, 0, 1, 0, 0, 1, 1, 1, 0, 0, 0, 0, 1, 0, 0, 0, 1, 1, 1,\n",
              "       1, 1, 1, 1, 1, 1, 0, 1, 1, 1, 1, 0, 0, 1, 1, 1, 0, 0, 0, 1, 1, 0,\n",
              "       1, 1, 1, 0, 0, 0, 0, 0, 1, 0, 0, 1, 1, 1, 1, 1, 0, 1, 1, 1, 0, 0,\n",
              "       1, 1, 1, 0, 1, 1, 0, 0, 0, 1, 1, 0, 0, 1, 0, 0, 0, 1, 0, 1, 1, 1,\n",
              "       0, 0, 0, 1, 0, 1, 0, 0, 1, 1, 1, 1, 1, 0, 1, 0, 0, 0, 0, 0, 0, 0,\n",
              "       1, 0, 0, 1, 1, 0, 0, 1, 0, 1, 1, 0, 1, 0, 1, 0, 0, 0, 1, 0, 1, 1,\n",
              "       1, 1, 0, 0, 0, 0, 1, 0, 0, 1, 1, 1, 0, 0, 0, 0, 1, 1, 1, 0, 0, 0,\n",
              "       1, 1, 0, 0, 1, 0, 0, 1, 0, 0, 1, 0, 0, 0, 1, 0, 0, 0, 1, 1, 0, 0,\n",
              "       0, 0, 0, 1, 1, 0, 0, 1, 0, 0, 0, 1, 0, 1, 0, 0, 1, 1, 1, 1, 0, 1,\n",
              "       1, 0, 0, 0, 0, 1, 0, 1, 0, 0])"
            ]
          },
          "metadata": {},
          "execution_count": 7
        }
      ]
    },
    {
      "cell_type": "markdown",
      "source": [
        "Preparing the DataFrame"
      ],
      "metadata": {
        "id": "kIuGdO9ikIpy"
      }
    },
    {
      "cell_type": "code",
      "source": [
        "circles_df = pd.DataFrame({\"X1\" : X[:,0] , \"X2\" : X[:,1] ,\"label\" : y})"
      ],
      "metadata": {
        "id": "Wr378F6XiNty"
      },
      "execution_count": 8,
      "outputs": []
    },
    {
      "cell_type": "code",
      "source": [
        "circles_df.head(10)"
      ],
      "metadata": {
        "colab": {
          "base_uri": "https://localhost:8080/",
          "height": 363
        },
        "id": "u6L9tD8Gizr3",
        "outputId": "22f3a1d2-8238-4f75-8e18-5d2a77018b0c"
      },
      "execution_count": 9,
      "outputs": [
        {
          "output_type": "execute_result",
          "data": {
            "text/plain": [
              "         X1        X2  label\n",
              "0  0.494718 -0.657812      1\n",
              "1  0.886715 -0.350651      0\n",
              "2  0.056079  0.782844      1\n",
              "3  1.009525  0.175530      0\n",
              "4 -0.231881  0.732019      1\n",
              "5  0.332941 -0.762676      1\n",
              "6  0.464530  0.640207      1\n",
              "7  0.772744 -0.090455      1\n",
              "8 -0.251660  0.979252      0\n",
              "9 -0.702965 -0.678862      0"
            ],
            "text/html": [
              "\n",
              "  <div id=\"df-02b34825-1f98-4d57-b0c2-eddc40c85666\" class=\"colab-df-container\">\n",
              "    <div>\n",
              "<style scoped>\n",
              "    .dataframe tbody tr th:only-of-type {\n",
              "        vertical-align: middle;\n",
              "    }\n",
              "\n",
              "    .dataframe tbody tr th {\n",
              "        vertical-align: top;\n",
              "    }\n",
              "\n",
              "    .dataframe thead th {\n",
              "        text-align: right;\n",
              "    }\n",
              "</style>\n",
              "<table border=\"1\" class=\"dataframe\">\n",
              "  <thead>\n",
              "    <tr style=\"text-align: right;\">\n",
              "      <th></th>\n",
              "      <th>X1</th>\n",
              "      <th>X2</th>\n",
              "      <th>label</th>\n",
              "    </tr>\n",
              "  </thead>\n",
              "  <tbody>\n",
              "    <tr>\n",
              "      <th>0</th>\n",
              "      <td>0.494718</td>\n",
              "      <td>-0.657812</td>\n",
              "      <td>1</td>\n",
              "    </tr>\n",
              "    <tr>\n",
              "      <th>1</th>\n",
              "      <td>0.886715</td>\n",
              "      <td>-0.350651</td>\n",
              "      <td>0</td>\n",
              "    </tr>\n",
              "    <tr>\n",
              "      <th>2</th>\n",
              "      <td>0.056079</td>\n",
              "      <td>0.782844</td>\n",
              "      <td>1</td>\n",
              "    </tr>\n",
              "    <tr>\n",
              "      <th>3</th>\n",
              "      <td>1.009525</td>\n",
              "      <td>0.175530</td>\n",
              "      <td>0</td>\n",
              "    </tr>\n",
              "    <tr>\n",
              "      <th>4</th>\n",
              "      <td>-0.231881</td>\n",
              "      <td>0.732019</td>\n",
              "      <td>1</td>\n",
              "    </tr>\n",
              "    <tr>\n",
              "      <th>5</th>\n",
              "      <td>0.332941</td>\n",
              "      <td>-0.762676</td>\n",
              "      <td>1</td>\n",
              "    </tr>\n",
              "    <tr>\n",
              "      <th>6</th>\n",
              "      <td>0.464530</td>\n",
              "      <td>0.640207</td>\n",
              "      <td>1</td>\n",
              "    </tr>\n",
              "    <tr>\n",
              "      <th>7</th>\n",
              "      <td>0.772744</td>\n",
              "      <td>-0.090455</td>\n",
              "      <td>1</td>\n",
              "    </tr>\n",
              "    <tr>\n",
              "      <th>8</th>\n",
              "      <td>-0.251660</td>\n",
              "      <td>0.979252</td>\n",
              "      <td>0</td>\n",
              "    </tr>\n",
              "    <tr>\n",
              "      <th>9</th>\n",
              "      <td>-0.702965</td>\n",
              "      <td>-0.678862</td>\n",
              "      <td>0</td>\n",
              "    </tr>\n",
              "  </tbody>\n",
              "</table>\n",
              "</div>\n",
              "    <div class=\"colab-df-buttons\">\n",
              "\n",
              "  <div class=\"colab-df-container\">\n",
              "    <button class=\"colab-df-convert\" onclick=\"convertToInteractive('df-02b34825-1f98-4d57-b0c2-eddc40c85666')\"\n",
              "            title=\"Convert this dataframe to an interactive table.\"\n",
              "            style=\"display:none;\">\n",
              "\n",
              "  <svg xmlns=\"http://www.w3.org/2000/svg\" height=\"24px\" viewBox=\"0 -960 960 960\">\n",
              "    <path d=\"M120-120v-720h720v720H120Zm60-500h600v-160H180v160Zm220 220h160v-160H400v160Zm0 220h160v-160H400v160ZM180-400h160v-160H180v160Zm440 0h160v-160H620v160ZM180-180h160v-160H180v160Zm440 0h160v-160H620v160Z\"/>\n",
              "  </svg>\n",
              "    </button>\n",
              "\n",
              "  <style>\n",
              "    .colab-df-container {\n",
              "      display:flex;\n",
              "      gap: 12px;\n",
              "    }\n",
              "\n",
              "    .colab-df-convert {\n",
              "      background-color: #E8F0FE;\n",
              "      border: none;\n",
              "      border-radius: 50%;\n",
              "      cursor: pointer;\n",
              "      display: none;\n",
              "      fill: #1967D2;\n",
              "      height: 32px;\n",
              "      padding: 0 0 0 0;\n",
              "      width: 32px;\n",
              "    }\n",
              "\n",
              "    .colab-df-convert:hover {\n",
              "      background-color: #E2EBFA;\n",
              "      box-shadow: 0px 1px 2px rgba(60, 64, 67, 0.3), 0px 1px 3px 1px rgba(60, 64, 67, 0.15);\n",
              "      fill: #174EA6;\n",
              "    }\n",
              "\n",
              "    .colab-df-buttons div {\n",
              "      margin-bottom: 4px;\n",
              "    }\n",
              "\n",
              "    [theme=dark] .colab-df-convert {\n",
              "      background-color: #3B4455;\n",
              "      fill: #D2E3FC;\n",
              "    }\n",
              "\n",
              "    [theme=dark] .colab-df-convert:hover {\n",
              "      background-color: #434B5C;\n",
              "      box-shadow: 0px 1px 3px 1px rgba(0, 0, 0, 0.15);\n",
              "      filter: drop-shadow(0px 1px 2px rgba(0, 0, 0, 0.3));\n",
              "      fill: #FFFFFF;\n",
              "    }\n",
              "  </style>\n",
              "\n",
              "    <script>\n",
              "      const buttonEl =\n",
              "        document.querySelector('#df-02b34825-1f98-4d57-b0c2-eddc40c85666 button.colab-df-convert');\n",
              "      buttonEl.style.display =\n",
              "        google.colab.kernel.accessAllowed ? 'block' : 'none';\n",
              "\n",
              "      async function convertToInteractive(key) {\n",
              "        const element = document.querySelector('#df-02b34825-1f98-4d57-b0c2-eddc40c85666');\n",
              "        const dataTable =\n",
              "          await google.colab.kernel.invokeFunction('convertToInteractive',\n",
              "                                                    [key], {});\n",
              "        if (!dataTable) return;\n",
              "\n",
              "        const docLinkHtml = 'Like what you see? Visit the ' +\n",
              "          '<a target=\"_blank\" href=https://colab.research.google.com/notebooks/data_table.ipynb>data table notebook</a>'\n",
              "          + ' to learn more about interactive tables.';\n",
              "        element.innerHTML = '';\n",
              "        dataTable['output_type'] = 'display_data';\n",
              "        await google.colab.output.renderOutput(dataTable, element);\n",
              "        const docLink = document.createElement('div');\n",
              "        docLink.innerHTML = docLinkHtml;\n",
              "        element.appendChild(docLink);\n",
              "      }\n",
              "    </script>\n",
              "  </div>\n",
              "\n",
              "\n",
              "<div id=\"df-074044b0-1ec3-4f51-8b41-d949058b3ae4\">\n",
              "  <button class=\"colab-df-quickchart\" onclick=\"quickchart('df-074044b0-1ec3-4f51-8b41-d949058b3ae4')\"\n",
              "            title=\"Suggest charts\"\n",
              "            style=\"display:none;\">\n",
              "\n",
              "<svg xmlns=\"http://www.w3.org/2000/svg\" height=\"24px\"viewBox=\"0 0 24 24\"\n",
              "     width=\"24px\">\n",
              "    <g>\n",
              "        <path d=\"M19 3H5c-1.1 0-2 .9-2 2v14c0 1.1.9 2 2 2h14c1.1 0 2-.9 2-2V5c0-1.1-.9-2-2-2zM9 17H7v-7h2v7zm4 0h-2V7h2v10zm4 0h-2v-4h2v4z\"/>\n",
              "    </g>\n",
              "</svg>\n",
              "  </button>\n",
              "\n",
              "<style>\n",
              "  .colab-df-quickchart {\n",
              "      --bg-color: #E8F0FE;\n",
              "      --fill-color: #1967D2;\n",
              "      --hover-bg-color: #E2EBFA;\n",
              "      --hover-fill-color: #174EA6;\n",
              "      --disabled-fill-color: #AAA;\n",
              "      --disabled-bg-color: #DDD;\n",
              "  }\n",
              "\n",
              "  [theme=dark] .colab-df-quickchart {\n",
              "      --bg-color: #3B4455;\n",
              "      --fill-color: #D2E3FC;\n",
              "      --hover-bg-color: #434B5C;\n",
              "      --hover-fill-color: #FFFFFF;\n",
              "      --disabled-bg-color: #3B4455;\n",
              "      --disabled-fill-color: #666;\n",
              "  }\n",
              "\n",
              "  .colab-df-quickchart {\n",
              "    background-color: var(--bg-color);\n",
              "    border: none;\n",
              "    border-radius: 50%;\n",
              "    cursor: pointer;\n",
              "    display: none;\n",
              "    fill: var(--fill-color);\n",
              "    height: 32px;\n",
              "    padding: 0;\n",
              "    width: 32px;\n",
              "  }\n",
              "\n",
              "  .colab-df-quickchart:hover {\n",
              "    background-color: var(--hover-bg-color);\n",
              "    box-shadow: 0 1px 2px rgba(60, 64, 67, 0.3), 0 1px 3px 1px rgba(60, 64, 67, 0.15);\n",
              "    fill: var(--button-hover-fill-color);\n",
              "  }\n",
              "\n",
              "  .colab-df-quickchart-complete:disabled,\n",
              "  .colab-df-quickchart-complete:disabled:hover {\n",
              "    background-color: var(--disabled-bg-color);\n",
              "    fill: var(--disabled-fill-color);\n",
              "    box-shadow: none;\n",
              "  }\n",
              "\n",
              "  .colab-df-spinner {\n",
              "    border: 2px solid var(--fill-color);\n",
              "    border-color: transparent;\n",
              "    border-bottom-color: var(--fill-color);\n",
              "    animation:\n",
              "      spin 1s steps(1) infinite;\n",
              "  }\n",
              "\n",
              "  @keyframes spin {\n",
              "    0% {\n",
              "      border-color: transparent;\n",
              "      border-bottom-color: var(--fill-color);\n",
              "      border-left-color: var(--fill-color);\n",
              "    }\n",
              "    20% {\n",
              "      border-color: transparent;\n",
              "      border-left-color: var(--fill-color);\n",
              "      border-top-color: var(--fill-color);\n",
              "    }\n",
              "    30% {\n",
              "      border-color: transparent;\n",
              "      border-left-color: var(--fill-color);\n",
              "      border-top-color: var(--fill-color);\n",
              "      border-right-color: var(--fill-color);\n",
              "    }\n",
              "    40% {\n",
              "      border-color: transparent;\n",
              "      border-right-color: var(--fill-color);\n",
              "      border-top-color: var(--fill-color);\n",
              "    }\n",
              "    60% {\n",
              "      border-color: transparent;\n",
              "      border-right-color: var(--fill-color);\n",
              "    }\n",
              "    80% {\n",
              "      border-color: transparent;\n",
              "      border-right-color: var(--fill-color);\n",
              "      border-bottom-color: var(--fill-color);\n",
              "    }\n",
              "    90% {\n",
              "      border-color: transparent;\n",
              "      border-bottom-color: var(--fill-color);\n",
              "    }\n",
              "  }\n",
              "</style>\n",
              "\n",
              "  <script>\n",
              "    async function quickchart(key) {\n",
              "      const quickchartButtonEl =\n",
              "        document.querySelector('#' + key + ' button');\n",
              "      quickchartButtonEl.disabled = true;  // To prevent multiple clicks.\n",
              "      quickchartButtonEl.classList.add('colab-df-spinner');\n",
              "      try {\n",
              "        const charts = await google.colab.kernel.invokeFunction(\n",
              "            'suggestCharts', [key], {});\n",
              "      } catch (error) {\n",
              "        console.error('Error during call to suggestCharts:', error);\n",
              "      }\n",
              "      quickchartButtonEl.classList.remove('colab-df-spinner');\n",
              "      quickchartButtonEl.classList.add('colab-df-quickchart-complete');\n",
              "    }\n",
              "    (() => {\n",
              "      let quickchartButtonEl =\n",
              "        document.querySelector('#df-074044b0-1ec3-4f51-8b41-d949058b3ae4 button');\n",
              "      quickchartButtonEl.style.display =\n",
              "        google.colab.kernel.accessAllowed ? 'block' : 'none';\n",
              "    })();\n",
              "  </script>\n",
              "</div>\n",
              "\n",
              "    </div>\n",
              "  </div>\n"
            ],
            "application/vnd.google.colaboratory.intrinsic+json": {
              "type": "dataframe",
              "variable_name": "circles_df",
              "summary": "{\n  \"name\": \"circles_df\",\n  \"rows\": 1000,\n  \"fields\": [\n    {\n      \"column\": \"X1\",\n      \"properties\": {\n        \"dtype\": \"number\",\n        \"std\": 0.6414731404652559,\n        \"min\": -1.0548079286518994,\n        \"max\": 1.048234246656361,\n        \"samples\": [\n          1.020995025641911,\n          -0.37074087996851735,\n          -0.3425128711284993\n        ],\n        \"num_unique_values\": 1000,\n        \"semantic_type\": \"\",\n        \"description\": \"\"\n      }\n    },\n    {\n      \"column\": \"X2\",\n      \"properties\": {\n        \"dtype\": \"number\",\n        \"std\": 0.6430530841142545,\n        \"min\": -1.068952594538093,\n        \"max\": 1.0571882244283868,\n        \"samples\": [\n          -0.01707407141745551,\n          0.8732710570054263,\n          -0.9349525175855506\n        ],\n        \"num_unique_values\": 1000,\n        \"semantic_type\": \"\",\n        \"description\": \"\"\n      }\n    },\n    {\n      \"column\": \"label\",\n      \"properties\": {\n        \"dtype\": \"number\",\n        \"std\": 0,\n        \"min\": 0,\n        \"max\": 1,\n        \"samples\": [\n          0,\n          1\n        ],\n        \"num_unique_values\": 2,\n        \"semantic_type\": \"\",\n        \"description\": \"\"\n      }\n    }\n  ]\n}"
            }
          },
          "metadata": {},
          "execution_count": 9
        }
      ]
    },
    {
      "cell_type": "code",
      "source": [],
      "metadata": {
        "id": "pduwOSVokEbE"
      },
      "execution_count": 9,
      "outputs": []
    },
    {
      "cell_type": "markdown",
      "source": [
        " Identifying the shape of the Dataset"
      ],
      "metadata": {
        "id": "_x9fRbdZnTtQ"
      }
    },
    {
      "cell_type": "code",
      "source": [
        "print(f\"The shape of input feature is {X.shape} , Shape of target feature is {y.shape}\")"
      ],
      "metadata": {
        "colab": {
          "base_uri": "https://localhost:8080/"
        },
        "id": "rT7DSUQ-oXgE",
        "outputId": "3e0007fe-d711-46e1-d88d-073be7d600dd"
      },
      "execution_count": 10,
      "outputs": [
        {
          "output_type": "stream",
          "name": "stdout",
          "text": [
            "The shape of input feature is (1000, 2) , Shape of target feature is (1000,)\n"
          ]
        }
      ]
    },
    {
      "cell_type": "markdown",
      "source": [
        "# 1 Turning our data to Tensors and creating the splits"
      ],
      "metadata": {
        "id": "-ckrYgNYomJD"
      }
    },
    {
      "cell_type": "code",
      "source": [],
      "metadata": {
        "id": "2vRVyJzloos2"
      },
      "execution_count": 10,
      "outputs": []
    },
    {
      "cell_type": "code",
      "source": [
        "X = torch.from_numpy(X).type(torch.float)\n",
        "y = torch.from_numpy(y).type(torch.float)"
      ],
      "metadata": {
        "id": "r5erHnL9o1oM"
      },
      "execution_count": 11,
      "outputs": []
    },
    {
      "cell_type": "code",
      "source": [
        "X [:5] , y[:5]"
      ],
      "metadata": {
        "colab": {
          "base_uri": "https://localhost:8080/"
        },
        "id": "_1AYiKLdo8o6",
        "outputId": "d01de628-981d-4de9-e950-b797b2a28f21"
      },
      "execution_count": 12,
      "outputs": [
        {
          "output_type": "execute_result",
          "data": {
            "text/plain": [
              "(tensor([[ 0.4947, -0.6578],\n",
              "         [ 0.8867, -0.3507],\n",
              "         [ 0.0561,  0.7828],\n",
              "         [ 1.0095,  0.1755],\n",
              "         [-0.2319,  0.7320]]),\n",
              " tensor([1., 0., 1., 0., 1.]))"
            ]
          },
          "metadata": {},
          "execution_count": 12
        }
      ]
    },
    {
      "cell_type": "code",
      "source": [
        "type(X) , X.dtype , type(y)"
      ],
      "metadata": {
        "colab": {
          "base_uri": "https://localhost:8080/"
        },
        "id": "8fJP3aYDo9cu",
        "outputId": "4782bc26-89bd-47e6-831c-5266974806d1"
      },
      "execution_count": 13,
      "outputs": [
        {
          "output_type": "execute_result",
          "data": {
            "text/plain": [
              "(torch.Tensor, torch.float32, torch.Tensor)"
            ]
          },
          "metadata": {},
          "execution_count": 13
        }
      ]
    },
    {
      "cell_type": "markdown",
      "source": [
        "Splitting the data"
      ],
      "metadata": {
        "id": "xhG9fk5Wqr0v"
      }
    },
    {
      "cell_type": "code",
      "source": [
        "from sklearn.model_selection import train_test_split\n",
        "x_train , x_test = train_test_split(X , random_state = 42 , test_size = 0.2)\n",
        "y_train , y_test = train_test_split(y , random_state = 42 , test_size = 0.2)"
      ],
      "metadata": {
        "id": "ABQ4xHuEqbnQ"
      },
      "execution_count": 14,
      "outputs": []
    },
    {
      "cell_type": "code",
      "source": [
        "print(f\"X_train's shape is {x_train.shape} , y_train's shape is {y_train.shape} , X_test's shape is {x_test.shape} , y_test's shape is {y_test.shape}\")"
      ],
      "metadata": {
        "colab": {
          "base_uri": "https://localhost:8080/"
        },
        "id": "sb1NIw4nrWPg",
        "outputId": "e98a1781-8c96-41ef-f123-2ddddf3d78ad"
      },
      "execution_count": 15,
      "outputs": [
        {
          "output_type": "stream",
          "name": "stdout",
          "text": [
            "X_train's shape is torch.Size([800, 2]) , y_train's shape is torch.Size([800]) , X_test's shape is torch.Size([200, 2]) , y_test's shape is torch.Size([200])\n"
          ]
        }
      ]
    },
    {
      "cell_type": "code",
      "source": [],
      "metadata": {
        "id": "Mf3eTww3rXgm"
      },
      "execution_count": 15,
      "outputs": []
    },
    {
      "cell_type": "code",
      "source": [],
      "metadata": {
        "id": "rEl_RkcOsJz1"
      },
      "execution_count": 15,
      "outputs": []
    },
    {
      "cell_type": "markdown",
      "source": [
        "#2 Build or pick a pretrained model\n",
        "\n",
        "To do so, we want to:\n",
        "1. Setup device agonistic code so our code will run on an accelerator (GPU) if there is one\n",
        "\n",
        "\n",
        "2. Construct a model (by subclassing nn.Module)\n",
        "\n",
        "\n",
        "3. Define a loss function and optimizer\n",
        "\n",
        "\n",
        "4. Create a training and test loop"
      ],
      "metadata": {
        "id": "pFCojo2qsYqM"
      }
    },
    {
      "cell_type": "code",
      "source": [
        "#Make device agnostic code\n",
        "\n",
        "device = \"cuda\" if torch.cuda.is_available() else \"cpu\"\n",
        "device"
      ],
      "metadata": {
        "colab": {
          "base_uri": "https://localhost:8080/",
          "height": 35
        },
        "id": "ujUiCKxisdbZ",
        "outputId": "1d1b914f-5727-4414-cd28-5a08cf6e3273"
      },
      "execution_count": 16,
      "outputs": [
        {
          "output_type": "execute_result",
          "data": {
            "text/plain": [
              "'cpu'"
            ],
            "application/vnd.google.colaboratory.intrinsic+json": {
              "type": "string"
            }
          },
          "metadata": {},
          "execution_count": 16
        }
      ]
    },
    {
      "cell_type": "code",
      "source": [],
      "metadata": {
        "id": "s7_AiG5yt5M4"
      },
      "execution_count": 16,
      "outputs": []
    },
    {
      "cell_type": "markdown",
      "source": [
        "Now we've setup device agnostic code, let's create a model that:\n",
        "1. Subclasses nn. Module (almost all models in PyTorch subclass nn. Module)\n",
        "2. Create 2 nn.Linear() layers that are capable of handling the shapes of our data\n",
        "3. Defines a forward() method that outlines the forward pass (or forward computation) of the model\n",
        "4. Instatiate an instance of our model class and send it to the target device"
      ],
      "metadata": {
        "id": "TAjFOiV-w8fb"
      }
    },
    {
      "cell_type": "code",
      "source": [
        "class CircleModel(nn.Module):\n",
        "  #1.Construct a model that subclasses nn.Module\n",
        "  def __init__(self):\n",
        "    super().__init__()\n",
        "\n",
        "    #2.Create 2 nn.Linear layers capable of handling the shapes of our data\n",
        "    self.layer_1 = nn.Linear(in_features = 2 , out_features = 5)\n",
        "    self.layer_2 = nn.Linear(in_features = 5 , out_features = 1)\n",
        "\n",
        "    #3.Define a forward() method that outlines the forward pass\n",
        "  def forward(self,x):\n",
        "    return self.layer_2(self.layer_1(x)) #x -> layer_1 -> layer_2 -> output\n",
        "\n",
        "#4.Instantiate instance of our model and send it to the target device\n",
        "model = CircleModel()"
      ],
      "metadata": {
        "id": "Xd_gBD9sw9eI"
      },
      "execution_count": 17,
      "outputs": []
    },
    {
      "cell_type": "code",
      "source": [
        "model"
      ],
      "metadata": {
        "colab": {
          "base_uri": "https://localhost:8080/"
        },
        "id": "NV8ZX1CSBSBC",
        "outputId": "b6925daa-9e3a-4ba6-88ba-0e670f33080b"
      },
      "execution_count": 18,
      "outputs": [
        {
          "output_type": "execute_result",
          "data": {
            "text/plain": [
              "CircleModel(\n",
              "  (layer_1): Linear(in_features=2, out_features=5, bias=True)\n",
              "  (layer_2): Linear(in_features=5, out_features=1, bias=True)\n",
              ")"
            ]
          },
          "metadata": {},
          "execution_count": 18
        }
      ]
    },
    {
      "cell_type": "markdown",
      "source": [
        "Random initialization of the model"
      ],
      "metadata": {
        "id": "T7O11ZSnDsWq"
      }
    },
    {
      "cell_type": "code",
      "source": [
        "list(model.parameters())"
      ],
      "metadata": {
        "colab": {
          "base_uri": "https://localhost:8080/"
        },
        "id": "0mCGgikzBZca",
        "outputId": "c16b63b1-eb23-4ac5-daa2-c7b2811ce44e"
      },
      "execution_count": 19,
      "outputs": [
        {
          "output_type": "execute_result",
          "data": {
            "text/plain": [
              "[Parameter containing:\n",
              " tensor([[ 0.4879,  0.4230],\n",
              "         [ 0.2862, -0.0380],\n",
              "         [-0.6275, -0.3430],\n",
              "         [ 0.6686, -0.6493],\n",
              "         [-0.5343,  0.6106]], requires_grad=True),\n",
              " Parameter containing:\n",
              " tensor([ 0.5299, -0.6079, -0.4656, -0.0793,  0.1479], requires_grad=True),\n",
              " Parameter containing:\n",
              " tensor([[ 0.1347,  0.0808,  0.4071, -0.1106, -0.1874]], requires_grad=True),\n",
              " Parameter containing:\n",
              " tensor([-0.1473], requires_grad=True)]"
            ]
          },
          "metadata": {},
          "execution_count": 19
        }
      ]
    },
    {
      "cell_type": "markdown",
      "source": [
        "Replicating the above model using nn.Sequential()"
      ],
      "metadata": {
        "id": "_3F_ZSAsHIdP"
      }
    },
    {
      "cell_type": "markdown",
      "source": [
        "This was the same as previous defined in class"
      ],
      "metadata": {
        "id": "fvaNEjUjapzQ"
      }
    },
    {
      "cell_type": "code",
      "source": [
        "model_0 = nn.Sequential(\n",
        "   nn.Linear(in_features = 2 , out_features = 5),\n",
        "   nn.Linear(in_features = 5 , out_features = 1)\n",
        ")\n",
        "model_0"
      ],
      "metadata": {
        "id": "2ghegJXQCqLm",
        "colab": {
          "base_uri": "https://localhost:8080/"
        },
        "outputId": "2dd23046-1c95-4568-ee4b-0dcba276301c"
      },
      "execution_count": 20,
      "outputs": [
        {
          "output_type": "execute_result",
          "data": {
            "text/plain": [
              "Sequential(\n",
              "  (0): Linear(in_features=2, out_features=5, bias=True)\n",
              "  (1): Linear(in_features=5, out_features=1, bias=True)\n",
              ")"
            ]
          },
          "metadata": {},
          "execution_count": 20
        }
      ]
    },
    {
      "cell_type": "code",
      "source": [
        "model.state_dict()"
      ],
      "metadata": {
        "colab": {
          "base_uri": "https://localhost:8080/"
        },
        "id": "9y7IYr_jG5dx",
        "outputId": "00f631f2-a2d1-4935-e1b3-4a9d9294423c"
      },
      "execution_count": 21,
      "outputs": [
        {
          "output_type": "execute_result",
          "data": {
            "text/plain": [
              "OrderedDict([('layer_1.weight',\n",
              "              tensor([[ 0.4879,  0.4230],\n",
              "                      [ 0.2862, -0.0380],\n",
              "                      [-0.6275, -0.3430],\n",
              "                      [ 0.6686, -0.6493],\n",
              "                      [-0.5343,  0.6106]])),\n",
              "             ('layer_1.bias',\n",
              "              tensor([ 0.5299, -0.6079, -0.4656, -0.0793,  0.1479])),\n",
              "             ('layer_2.weight',\n",
              "              tensor([[ 0.1347,  0.0808,  0.4071, -0.1106, -0.1874]])),\n",
              "             ('layer_2.bias', tensor([-0.1473]))])"
            ]
          },
          "metadata": {},
          "execution_count": 21
        }
      ]
    },
    {
      "cell_type": "markdown",
      "source": [
        "Setting up Loss function and optimizer"
      ],
      "metadata": {
        "id": "2QmmaTYRJVPb"
      }
    },
    {
      "cell_type": "code",
      "source": [
        "loss_fn = nn.BCEWithLogitsLoss() #sigmoid activation function"
      ],
      "metadata": {
        "id": "evsWcJm5HYmM"
      },
      "execution_count": 22,
      "outputs": []
    },
    {
      "cell_type": "code",
      "source": [
        "learning_rate = 0.001\n",
        "optimizer = torch.optim.SGD(model.parameters() , learning_rate)"
      ],
      "metadata": {
        "id": "WElRIZy_JsSx"
      },
      "execution_count": 39,
      "outputs": []
    },
    {
      "cell_type": "markdown",
      "source": [
        "Acuuracy"
      ],
      "metadata": {
        "id": "XxCVWbzpNbQV"
      }
    },
    {
      "cell_type": "code",
      "source": [
        "from sklearn.metrics import accuracy_score"
      ],
      "metadata": {
        "id": "iY15v1beKQ8O"
      },
      "execution_count": 24,
      "outputs": []
    },
    {
      "cell_type": "markdown",
      "source": [
        "##3.Train Model\n",
        "\n",
        "To train our model , we're going to need to build a training loop\n",
        "\n",
        "1.Forward pass\n",
        "\n",
        "2.Calculate the Loss\n",
        "\n",
        "3.Optimizer zero grad\n",
        "\n",
        "4.Loss backward (Backpropagation)\n",
        "\n",
        "5.Optimizer step (gradient descent)"
      ],
      "metadata": {
        "id": "EkZABhYXhBHc"
      }
    },
    {
      "cell_type": "code",
      "source": [
        "model"
      ],
      "metadata": {
        "colab": {
          "base_uri": "https://localhost:8080/"
        },
        "id": "QndjldoQhhe6",
        "outputId": "afc63a82-0308-4107-fec3-6be1ee3300f1"
      },
      "execution_count": 25,
      "outputs": [
        {
          "output_type": "execute_result",
          "data": {
            "text/plain": [
              "CircleModel(\n",
              "  (layer_1): Linear(in_features=2, out_features=5, bias=True)\n",
              "  (layer_2): Linear(in_features=5, out_features=1, bias=True)\n",
              ")"
            ]
          },
          "metadata": {},
          "execution_count": 25
        }
      ]
    },
    {
      "cell_type": "code",
      "source": [],
      "metadata": {
        "id": "UI5erXA7j_cE"
      },
      "execution_count": 25,
      "outputs": []
    },
    {
      "cell_type": "markdown",
      "source": [
        "Our model outputs are going to be raw logits\n",
        "\n",
        "\n",
        "We can convert these logits into prediction probabilities by passing them to some kind of activation function (eg. sigmoid for binary classification and softmax for multiclass classification)\n",
        "\n",
        "Then we can convert our model's prediction probabilities to prediction labels by either rounding them or taking the argmax()"
      ],
      "metadata": {
        "id": "lmvo6JSfkzej"
      }
    },
    {
      "cell_type": "markdown",
      "source": [
        "logits -> pred probs -> pred labels"
      ],
      "metadata": {
        "id": "OQ4l-Cjune9-"
      }
    },
    {
      "cell_type": "code",
      "source": [
        "model.eval()\n",
        "with torch.inference_mode():\n",
        "  y_logits = model(x_test)"
      ],
      "metadata": {
        "id": "b5TA_9QYlG37"
      },
      "execution_count": 26,
      "outputs": []
    },
    {
      "cell_type": "code",
      "source": [
        "y_logits[:5]"
      ],
      "metadata": {
        "colab": {
          "base_uri": "https://localhost:8080/"
        },
        "id": "vI3qyt3Alkn8",
        "outputId": "0144bb5d-7ef6-4e35-b76e-3adb3ba71add"
      },
      "execution_count": 27,
      "outputs": [
        {
          "output_type": "execute_result",
          "data": {
            "text/plain": [
              "tensor([[-0.4748],\n",
              "        [-0.3935],\n",
              "        [-0.1655],\n",
              "        [-0.4786],\n",
              "        [-0.3020]])"
            ]
          },
          "metadata": {},
          "execution_count": 27
        }
      ]
    },
    {
      "cell_type": "code",
      "source": [
        "y_test[:5]"
      ],
      "metadata": {
        "colab": {
          "base_uri": "https://localhost:8080/"
        },
        "id": "HisY1vj3luMF",
        "outputId": "97b293b1-639f-459b-b97c-4cd89745b723"
      },
      "execution_count": 28,
      "outputs": [
        {
          "output_type": "execute_result",
          "data": {
            "text/plain": [
              "tensor([0., 0., 0., 1., 0.])"
            ]
          },
          "metadata": {},
          "execution_count": 28
        }
      ]
    },
    {
      "cell_type": "code",
      "source": [
        "#Use the sigmoid function on our model logits to turn them into prediction probabilities\n",
        "y_pred_probs = torch.sigmoid(y_logits)\n",
        "y_pred_probs[:5]"
      ],
      "metadata": {
        "colab": {
          "base_uri": "https://localhost:8080/"
        },
        "id": "pWOmFBy_mG_u",
        "outputId": "b04e0592-8f60-4fa7-c82e-af2b27e577ea"
      },
      "execution_count": 29,
      "outputs": [
        {
          "output_type": "execute_result",
          "data": {
            "text/plain": [
              "tensor([[0.3835],\n",
              "        [0.4029],\n",
              "        [0.4587],\n",
              "        [0.3826],\n",
              "        [0.4251]])"
            ]
          },
          "metadata": {},
          "execution_count": 29
        }
      ]
    },
    {
      "cell_type": "markdown",
      "source": [
        "Now it's time to change it to either 0 or 1"
      ],
      "metadata": {
        "id": "A2pQenTqm89L"
      }
    },
    {
      "cell_type": "code",
      "source": [
        "y_pred = torch.round(y_pred_probs)[:5]"
      ],
      "metadata": {
        "id": "u4C-Yj6ImbIw"
      },
      "execution_count": 30,
      "outputs": []
    },
    {
      "cell_type": "code",
      "source": [
        "#Removing the extra dimensions\n",
        "y_pred.squeeze()"
      ],
      "metadata": {
        "colab": {
          "base_uri": "https://localhost:8080/"
        },
        "id": "HcXJ-iQgmlgf",
        "outputId": "dfa56a70-f9c8-4d33-b904-29065e6806a7"
      },
      "execution_count": 31,
      "outputs": [
        {
          "output_type": "execute_result",
          "data": {
            "text/plain": [
              "tensor([0., 0., 0., 0., 0.])"
            ]
          },
          "metadata": {},
          "execution_count": 31
        }
      ]
    },
    {
      "cell_type": "code",
      "source": [
        "y_pred"
      ],
      "metadata": {
        "colab": {
          "base_uri": "https://localhost:8080/"
        },
        "id": "-L-RL9HpnuD0",
        "outputId": "d9d75a78-0b17-465d-f841-592d3b99bd8c"
      },
      "execution_count": 32,
      "outputs": [
        {
          "output_type": "execute_result",
          "data": {
            "text/plain": [
              "tensor([[0.],\n",
              "        [0.],\n",
              "        [0.],\n",
              "        [0.],\n",
              "        [0.]])"
            ]
          },
          "metadata": {},
          "execution_count": 32
        }
      ]
    },
    {
      "cell_type": "markdown",
      "source": [
        "Building a training and testing loop"
      ],
      "metadata": {
        "id": "x0FEfv1rnvbu"
      }
    },
    {
      "cell_type": "code",
      "source": [
        "x_train[:5]"
      ],
      "metadata": {
        "colab": {
          "base_uri": "https://localhost:8080/"
        },
        "id": "D5E4H0m9wDWH",
        "outputId": "3d34ce90-f4c4-48b9-a203-fbafef9e6417"
      },
      "execution_count": 35,
      "outputs": [
        {
          "output_type": "execute_result",
          "data": {
            "text/plain": [
              "tensor([[-0.7149, -0.4308],\n",
              "        [-0.9042, -0.4579],\n",
              "        [ 0.0613, -1.0155],\n",
              "        [-0.6722,  0.3750],\n",
              "        [ 0.3262,  0.7146]])"
            ]
          },
          "metadata": {},
          "execution_count": 35
        }
      ]
    },
    {
      "cell_type": "code",
      "source": [
        "y_train[:5]"
      ],
      "metadata": {
        "colab": {
          "base_uri": "https://localhost:8080/"
        },
        "id": "JQlE52lDwq2x",
        "outputId": "aed2ca73-27b2-4246-87f4-931aeffcd71f"
      },
      "execution_count": 37,
      "outputs": [
        {
          "output_type": "execute_result",
          "data": {
            "text/plain": [
              "tensor([1., 0., 0., 1., 1.])"
            ]
          },
          "metadata": {},
          "execution_count": 37
        }
      ]
    },
    {
      "cell_type": "code",
      "source": [
        "from sklearn.metrics import accuracy_score"
      ],
      "metadata": {
        "id": "kXrm4YIm3E1h"
      },
      "execution_count": 42,
      "outputs": []
    },
    {
      "cell_type": "code",
      "source": [
        "torch.manual_seed(42)\n",
        "epochs = 101\n",
        "for epoch in range(epochs):\n",
        "  model.train()\n",
        "  with torch.inference_mode():\n",
        "\n",
        "    #1.Forward pass\n",
        "    train_logits = model(x_train).squeeze()\n",
        "    train_pred = torch.round(torch.sigmoid(y_logits))\n",
        "\n",
        "    #2.Calculate the loss/accuarcy\n",
        "    loss_train = loss_fn(train_logits,y_train)\n",
        "    accuracy_train = accuracy_score(train_pred,y_train)*100\n",
        "    loss_train.requires_grad_()\n",
        "\n",
        "     #3.Optimizer.zero_grad\n",
        "    optimizer.zero_grad()\n",
        "\n",
        "     #4.Backpropagation\n",
        "    loss_train.backward()\n",
        "\n",
        "    #5.Optimizer.step()\n",
        "    optimizer.step()\n",
        "\n",
        "\n",
        "    model.eval()\n",
        "  with torch.inference_mode():\n",
        "\n",
        "    #1.Forward pass\n",
        "    test_logits = model(x_test).squeeze()\n",
        "    test_pred = torch.round(torch.sigmoid(test_logits))\n",
        "\n",
        "    #2.Calculate the loss/accuracy\n",
        "    loss_test = loss_fn(test_logits,y_test)\n",
        "    accuracy_test = accuracy_score(test_pred,y_test)*100\n",
        "\n",
        "    #3.Optimizer.zero_grad\n",
        "    optimizer.zero_grad()\n",
        "    loss_test.requires_grad_()\n",
        "\n",
        "    #4.Backpropagation\n",
        "    loss_test.backward()\n",
        "\n",
        "    #5.Optimizer.step\n",
        "    optimizer.step()\n",
        "\n",
        "\n",
        "    if(epoch%20==0):\n",
        "      print(f\"The epoch's iteration number is {epoch} \\n \\n Loss of train is {loss_train} \\n accuracy of train is {accuracy_train}\")\n",
        "      print(f\"Loss of test is {loss_test} \\n accuracy of test is {accuracy_test}\")\n",
        "      print(\"\\n \\n\")\n"
      ],
      "metadata": {
        "colab": {
          "base_uri": "https://localhost:8080/"
        },
        "id": "Nfo2kglxwsfh",
        "outputId": "b6920421-4772-4e3b-8f3b-6c332413b33e"
      },
      "execution_count": 73,
      "outputs": [
        {
          "output_type": "stream",
          "name": "stdout",
          "text": [
            "The epoch's iteration number is 0 \n",
            " \n",
            " Loss of train is 0.7082985639572144 \n",
            " accuracy of train is 50.0\n",
            "Loss of test is 0.7017697095870972 \n",
            " accuracy of test is 50.0\n",
            "\n",
            " \n",
            "\n",
            "The epoch's iteration number is 20 \n",
            " \n",
            " Loss of train is 0.7082985639572144 \n",
            " accuracy of train is 50.0\n",
            "Loss of test is 0.7017697095870972 \n",
            " accuracy of test is 50.0\n",
            "\n",
            " \n",
            "\n",
            "The epoch's iteration number is 40 \n",
            " \n",
            " Loss of train is 0.7082985639572144 \n",
            " accuracy of train is 50.0\n",
            "Loss of test is 0.7017697095870972 \n",
            " accuracy of test is 50.0\n",
            "\n",
            " \n",
            "\n",
            "The epoch's iteration number is 60 \n",
            " \n",
            " Loss of train is 0.7082985639572144 \n",
            " accuracy of train is 50.0\n",
            "Loss of test is 0.7017697095870972 \n",
            " accuracy of test is 50.0\n",
            "\n",
            " \n",
            "\n",
            "The epoch's iteration number is 80 \n",
            " \n",
            " Loss of train is 0.7082985639572144 \n",
            " accuracy of train is 50.0\n",
            "Loss of test is 0.7017697095870972 \n",
            " accuracy of test is 50.0\n",
            "\n",
            " \n",
            "\n",
            "The epoch's iteration number is 100 \n",
            " \n",
            " Loss of train is 0.7082985639572144 \n",
            " accuracy of train is 50.0\n",
            "Loss of test is 0.7017697095870972 \n",
            " accuracy of test is 50.0\n",
            "\n",
            " \n",
            "\n"
          ]
        }
      ]
    },
    {
      "cell_type": "markdown",
      "source": [
        "#Improving a model\n",
        "\n",
        "* Add more layers : Give the model more chances to learn about patterns in the data\n",
        "\n",
        "* Add more hidden units : Go from 5 hidden units to 10 hidden units"
      ],
      "metadata": {
        "id": "QOj3a-t3BkH4"
      }
    },
    {
      "cell_type": "code",
      "source": [],
      "metadata": {
        "id": "K7V9lnxT7LEo"
      },
      "execution_count": null,
      "outputs": []
    }
  ]
}