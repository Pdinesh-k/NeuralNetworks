{
  "nbformat": 4,
  "nbformat_minor": 0,
  "metadata": {
    "colab": {
      "provenance": []
    },
    "kernelspec": {
      "name": "python3",
      "display_name": "Python 3"
    },
    "language_info": {
      "name": "python"
    }
  },
  "cells": [
    {
      "cell_type": "code",
      "execution_count": 233,
      "metadata": {
        "id": "wXhg4ujBKpn2"
      },
      "outputs": [],
      "source": [
        "import torch\n",
        "import torch.nn as nn\n",
        "from torch.utils.data import Dataset , DataLoader\n",
        "import pandas as pd"
      ]
    },
    {
      "cell_type": "markdown",
      "source": [
        "Importing the Dataset"
      ],
      "metadata": {
        "id": "_Agw5QKXhkDA"
      }
    },
    {
      "cell_type": "code",
      "source": [
        "from sklearn.datasets import make_circles"
      ],
      "metadata": {
        "id": "wecpD8M1frn5"
      },
      "execution_count": 234,
      "outputs": []
    },
    {
      "cell_type": "code",
      "source": [
        "make_circles"
      ],
      "metadata": {
        "colab": {
          "base_uri": "https://localhost:8080/",
          "height": 187
        },
        "id": "KS6cBo49hbxS",
        "outputId": "b39d6c07-c151-4573-9a41-21e1cba47158"
      },
      "execution_count": 235,
      "outputs": [
        {
          "output_type": "execute_result",
          "data": {
            "text/plain": [
              "<function sklearn.datasets._samples_generator.make_circles(n_samples=100, *, shuffle=True, noise=None, random_state=None, factor=0.8)>"
            ],
            "text/html": [
              "<div style=\"max-width:800px; border: 1px solid var(--colab-border-color);\"><style>\n",
              "      pre.function-repr-contents {\n",
              "        overflow-x: auto;\n",
              "        padding: 8px 12px;\n",
              "        max-height: 500px;\n",
              "      }\n",
              "\n",
              "      pre.function-repr-contents.function-repr-contents-collapsed {\n",
              "        cursor: pointer;\n",
              "        max-height: 100px;\n",
              "      }\n",
              "    </style>\n",
              "    <pre style=\"white-space: initial; background:\n",
              "         var(--colab-secondary-surface-color); padding: 8px 12px;\n",
              "         border-bottom: 1px solid var(--colab-border-color);\"><b>sklearn.datasets._samples_generator.make_circles</b><br/>def make_circles(n_samples=100, *, shuffle=True, noise=None, random_state=None, factor=0.8)</pre><pre class=\"function-repr-contents function-repr-contents-collapsed\" style=\"\"><a class=\"filepath\" style=\"display:none\" href=\"#\">/usr/local/lib/python3.10/dist-packages/sklearn/datasets/_samples_generator.py</a>Make a large circle containing a smaller circle in 2d.\n",
              "\n",
              "A simple toy dataset to visualize clustering and classification\n",
              "algorithms.\n",
              "\n",
              "Read more in the :ref:`User Guide &lt;sample_generators&gt;`.\n",
              "\n",
              "Parameters\n",
              "----------\n",
              "n_samples : int or tuple of shape (2,), dtype=int, default=100\n",
              "    If int, it is the total number of points generated.\n",
              "    For odd numbers, the inner circle will have one point more than the\n",
              "    outer circle.\n",
              "    If two-element tuple, number of points in outer circle and inner\n",
              "    circle.\n",
              "\n",
              "    .. versionchanged:: 0.23\n",
              "       Added two-element tuple.\n",
              "\n",
              "shuffle : bool, default=True\n",
              "    Whether to shuffle the samples.\n",
              "\n",
              "noise : float, default=None\n",
              "    Standard deviation of Gaussian noise added to the data.\n",
              "\n",
              "random_state : int, RandomState instance or None, default=None\n",
              "    Determines random number generation for dataset shuffling and noise.\n",
              "    Pass an int for reproducible output across multiple function calls.\n",
              "    See :term:`Glossary &lt;random_state&gt;`.\n",
              "\n",
              "factor : float, default=.8\n",
              "    Scale factor between inner and outer circle in the range `(0, 1)`.\n",
              "\n",
              "Returns\n",
              "-------\n",
              "X : ndarray of shape (n_samples, 2)\n",
              "    The generated samples.\n",
              "\n",
              "y : ndarray of shape (n_samples,)\n",
              "    The integer labels (0 or 1) for class membership of each sample.</pre>\n",
              "      <script>\n",
              "      if (google.colab.kernel.accessAllowed && google.colab.files && google.colab.files.view) {\n",
              "        for (const element of document.querySelectorAll('.filepath')) {\n",
              "          element.style.display = 'block'\n",
              "          element.onclick = (event) => {\n",
              "            event.preventDefault();\n",
              "            event.stopPropagation();\n",
              "            google.colab.files.view(element.textContent, 654);\n",
              "          };\n",
              "        }\n",
              "      }\n",
              "      for (const element of document.querySelectorAll('.function-repr-contents')) {\n",
              "        element.onclick = (event) => {\n",
              "          event.preventDefault();\n",
              "          event.stopPropagation();\n",
              "          element.classList.toggle('function-repr-contents-collapsed');\n",
              "        };\n",
              "      }\n",
              "      </script>\n",
              "      </div>"
            ]
          },
          "metadata": {},
          "execution_count": 235
        }
      ]
    },
    {
      "cell_type": "code",
      "source": [
        "n_samples = 1000"
      ],
      "metadata": {
        "id": "6xG0CD9Ih0DI"
      },
      "execution_count": 236,
      "outputs": []
    },
    {
      "cell_type": "markdown",
      "source": [
        "Defining the input and output variable"
      ],
      "metadata": {
        "id": "tunaZRPjiE1c"
      }
    },
    {
      "cell_type": "code",
      "source": [
        "X,y = make_circles(n_samples , noise = 0.03 , shuffle = True )"
      ],
      "metadata": {
        "id": "UEtsAlsGhrGO"
      },
      "execution_count": 237,
      "outputs": []
    },
    {
      "cell_type": "code",
      "source": [
        "X"
      ],
      "metadata": {
        "colab": {
          "base_uri": "https://localhost:8080/"
        },
        "id": "KE51MClih8yo",
        "outputId": "720954a7-352f-4dd1-c6d7-fb50a2b48ce7"
      },
      "execution_count": 238,
      "outputs": [
        {
          "output_type": "execute_result",
          "data": {
            "text/plain": [
              "array([[-0.07683128,  0.82976691],\n",
              "       [ 0.60411135, -0.79212936],\n",
              "       [ 0.76748954,  0.67374773],\n",
              "       ...,\n",
              "       [ 0.7672709 ,  0.01289466],\n",
              "       [-0.70858533, -0.19126901],\n",
              "       [ 0.75184921,  0.30251286]])"
            ]
          },
          "metadata": {},
          "execution_count": 238
        }
      ]
    },
    {
      "cell_type": "code",
      "source": [
        "y"
      ],
      "metadata": {
        "colab": {
          "base_uri": "https://localhost:8080/"
        },
        "id": "or2UsrRIiA8l",
        "outputId": "6897739c-cf2b-4109-dcf7-d9b1b5bce5af"
      },
      "execution_count": 239,
      "outputs": [
        {
          "output_type": "execute_result",
          "data": {
            "text/plain": [
              "array([1, 0, 0, 1, 0, 1, 0, 0, 0, 1, 0, 1, 0, 0, 1, 0, 1, 1, 0, 0, 0, 0,\n",
              "       1, 0, 0, 1, 1, 1, 1, 1, 1, 0, 1, 1, 1, 0, 0, 1, 1, 1, 0, 1, 1, 1,\n",
              "       1, 0, 1, 0, 0, 1, 0, 0, 0, 0, 0, 0, 1, 0, 1, 1, 0, 0, 0, 0, 1, 1,\n",
              "       0, 1, 1, 0, 1, 1, 1, 1, 1, 0, 1, 1, 0, 0, 1, 1, 0, 0, 1, 1, 0, 1,\n",
              "       0, 1, 1, 1, 1, 1, 1, 1, 1, 0, 0, 1, 0, 0, 0, 1, 0, 1, 0, 0, 1, 0,\n",
              "       0, 0, 0, 1, 1, 0, 1, 0, 1, 0, 0, 1, 1, 0, 0, 0, 0, 1, 1, 0, 1, 1,\n",
              "       1, 0, 1, 0, 0, 1, 1, 1, 0, 0, 0, 1, 0, 1, 0, 0, 1, 1, 1, 0, 1, 0,\n",
              "       0, 1, 1, 0, 0, 1, 1, 0, 1, 0, 0, 1, 0, 1, 0, 0, 1, 0, 0, 1, 1, 1,\n",
              "       0, 1, 0, 1, 1, 0, 1, 1, 1, 0, 0, 1, 1, 0, 0, 1, 0, 0, 1, 1, 0, 1,\n",
              "       1, 0, 0, 1, 1, 1, 1, 1, 0, 0, 1, 1, 0, 0, 0, 0, 1, 0, 0, 0, 0, 0,\n",
              "       0, 0, 0, 1, 0, 1, 1, 0, 0, 1, 1, 1, 1, 0, 1, 1, 1, 0, 0, 0, 1, 1,\n",
              "       0, 0, 1, 0, 1, 0, 0, 0, 1, 1, 0, 1, 1, 0, 1, 0, 0, 1, 1, 1, 0, 1,\n",
              "       1, 0, 0, 0, 0, 0, 0, 1, 0, 0, 0, 1, 1, 1, 0, 1, 1, 0, 1, 0, 0, 0,\n",
              "       0, 0, 1, 0, 1, 0, 0, 0, 0, 0, 0, 0, 0, 0, 0, 1, 0, 0, 1, 0, 1, 1,\n",
              "       1, 1, 1, 0, 1, 1, 0, 1, 1, 0, 1, 1, 0, 1, 0, 1, 1, 1, 1, 0, 0, 0,\n",
              "       1, 1, 0, 1, 0, 0, 1, 0, 0, 1, 0, 0, 0, 0, 0, 1, 1, 1, 1, 0, 1, 0,\n",
              "       0, 1, 1, 1, 0, 0, 0, 1, 1, 0, 1, 0, 0, 1, 1, 0, 1, 0, 0, 1, 0, 0,\n",
              "       0, 0, 1, 0, 0, 1, 0, 0, 1, 0, 1, 1, 0, 1, 1, 1, 0, 0, 1, 0, 0, 1,\n",
              "       0, 0, 0, 0, 0, 1, 1, 0, 0, 0, 1, 0, 1, 1, 1, 1, 1, 0, 0, 1, 1, 1,\n",
              "       0, 0, 1, 1, 0, 1, 1, 0, 1, 1, 0, 1, 1, 1, 0, 1, 0, 0, 0, 1, 0, 1,\n",
              "       0, 0, 1, 0, 1, 0, 0, 1, 0, 1, 1, 0, 1, 1, 1, 0, 0, 0, 0, 0, 0, 1,\n",
              "       1, 1, 1, 0, 0, 0, 1, 0, 0, 0, 0, 1, 1, 0, 1, 0, 1, 1, 1, 1, 1, 0,\n",
              "       1, 0, 0, 0, 1, 0, 1, 1, 1, 1, 1, 0, 1, 1, 0, 1, 1, 0, 0, 1, 1, 1,\n",
              "       1, 1, 0, 0, 1, 1, 1, 0, 1, 1, 1, 1, 0, 0, 1, 0, 1, 1, 0, 1, 0, 1,\n",
              "       1, 1, 0, 0, 1, 0, 1, 0, 1, 0, 0, 0, 1, 0, 0, 0, 1, 1, 1, 1, 1, 1,\n",
              "       1, 1, 0, 1, 0, 1, 0, 0, 1, 1, 0, 0, 1, 0, 0, 1, 0, 1, 1, 1, 1, 0,\n",
              "       0, 0, 1, 0, 0, 1, 0, 1, 1, 1, 0, 0, 1, 1, 1, 1, 0, 0, 1, 0, 0, 0,\n",
              "       0, 1, 1, 1, 1, 1, 0, 1, 0, 0, 1, 0, 0, 0, 1, 0, 1, 1, 0, 1, 0, 0,\n",
              "       1, 1, 1, 1, 0, 1, 1, 0, 1, 0, 1, 1, 0, 0, 1, 1, 1, 0, 0, 1, 1, 0,\n",
              "       1, 1, 1, 0, 0, 0, 1, 0, 1, 0, 0, 1, 1, 1, 0, 0, 0, 0, 0, 0, 1, 1,\n",
              "       1, 1, 1, 0, 0, 1, 1, 0, 1, 0, 0, 0, 1, 1, 1, 0, 1, 1, 0, 0, 1, 1,\n",
              "       0, 1, 1, 1, 1, 0, 0, 1, 0, 0, 0, 0, 1, 0, 0, 1, 0, 0, 0, 0, 0, 0,\n",
              "       0, 0, 1, 1, 1, 1, 0, 0, 1, 1, 0, 1, 1, 0, 0, 0, 1, 0, 1, 0, 0, 1,\n",
              "       0, 0, 1, 1, 0, 0, 0, 0, 1, 1, 0, 0, 1, 0, 0, 1, 0, 1, 1, 1, 1, 1,\n",
              "       1, 1, 1, 0, 1, 0, 0, 0, 0, 1, 0, 1, 0, 1, 0, 0, 1, 0, 0, 1, 1, 0,\n",
              "       1, 0, 1, 1, 0, 1, 1, 0, 0, 1, 0, 0, 1, 1, 0, 1, 0, 0, 0, 0, 1, 0,\n",
              "       0, 0, 0, 1, 1, 1, 1, 0, 1, 1, 0, 1, 1, 1, 0, 0, 1, 1, 1, 0, 0, 1,\n",
              "       0, 0, 0, 0, 0, 1, 1, 0, 1, 1, 1, 0, 1, 1, 1, 0, 0, 0, 0, 1, 1, 1,\n",
              "       1, 0, 1, 1, 0, 1, 1, 0, 1, 0, 1, 1, 0, 0, 0, 1, 1, 0, 1, 0, 0, 0,\n",
              "       1, 1, 0, 0, 0, 1, 1, 0, 0, 0, 1, 1, 0, 1, 0, 0, 0, 0, 1, 0, 1, 0,\n",
              "       1, 1, 1, 1, 0, 0, 1, 1, 0, 1, 1, 0, 0, 0, 0, 0, 1, 1, 1, 0, 1, 0,\n",
              "       0, 0, 1, 0, 0, 0, 1, 0, 1, 1, 1, 0, 0, 0, 0, 1, 0, 0, 1, 0, 1, 1,\n",
              "       0, 0, 0, 0, 1, 0, 1, 0, 1, 1, 0, 0, 1, 1, 0, 1, 1, 0, 1, 1, 0, 0,\n",
              "       0, 1, 1, 1, 0, 0, 0, 1, 1, 0, 0, 0, 0, 0, 0, 1, 1, 0, 0, 1, 1, 1,\n",
              "       1, 0, 1, 1, 1, 0, 1, 1, 1, 0, 0, 0, 0, 1, 1, 1, 0, 1, 0, 1, 1, 0,\n",
              "       0, 1, 0, 1, 1, 0, 1, 1, 1, 1])"
            ]
          },
          "metadata": {},
          "execution_count": 239
        }
      ]
    },
    {
      "cell_type": "markdown",
      "source": [
        "Preparing the DataFrame"
      ],
      "metadata": {
        "id": "kIuGdO9ikIpy"
      }
    },
    {
      "cell_type": "code",
      "source": [
        "circles_df = pd.DataFrame({\"X1\" : X[:,0] , \"X2\" : X[:,1] ,\"label\" : y})"
      ],
      "metadata": {
        "id": "Wr378F6XiNty"
      },
      "execution_count": 240,
      "outputs": []
    },
    {
      "cell_type": "code",
      "source": [
        "circles_df.head(10)"
      ],
      "metadata": {
        "colab": {
          "base_uri": "https://localhost:8080/",
          "height": 363
        },
        "id": "u6L9tD8Gizr3",
        "outputId": "07975853-2c08-4ebb-fbd5-50e0eba90645"
      },
      "execution_count": 241,
      "outputs": [
        {
          "output_type": "execute_result",
          "data": {
            "text/plain": [
              "         X1        X2  label\n",
              "0 -0.076831  0.829767      1\n",
              "1  0.604111 -0.792129      0\n",
              "2  0.767490  0.673748      0\n",
              "3 -0.237187  0.780564      1\n",
              "4 -0.322448  0.915866      0\n",
              "5  0.513240 -0.648223      1\n",
              "6 -0.814669  0.622648      0\n",
              "7  0.856162  0.592311      0\n",
              "8  0.489827 -0.902810      0\n",
              "9  0.782450 -0.166628      1"
            ],
            "text/html": [
              "\n",
              "  <div id=\"df-6f48035f-c495-4ff3-b2f6-fe62baead9fc\" class=\"colab-df-container\">\n",
              "    <div>\n",
              "<style scoped>\n",
              "    .dataframe tbody tr th:only-of-type {\n",
              "        vertical-align: middle;\n",
              "    }\n",
              "\n",
              "    .dataframe tbody tr th {\n",
              "        vertical-align: top;\n",
              "    }\n",
              "\n",
              "    .dataframe thead th {\n",
              "        text-align: right;\n",
              "    }\n",
              "</style>\n",
              "<table border=\"1\" class=\"dataframe\">\n",
              "  <thead>\n",
              "    <tr style=\"text-align: right;\">\n",
              "      <th></th>\n",
              "      <th>X1</th>\n",
              "      <th>X2</th>\n",
              "      <th>label</th>\n",
              "    </tr>\n",
              "  </thead>\n",
              "  <tbody>\n",
              "    <tr>\n",
              "      <th>0</th>\n",
              "      <td>-0.076831</td>\n",
              "      <td>0.829767</td>\n",
              "      <td>1</td>\n",
              "    </tr>\n",
              "    <tr>\n",
              "      <th>1</th>\n",
              "      <td>0.604111</td>\n",
              "      <td>-0.792129</td>\n",
              "      <td>0</td>\n",
              "    </tr>\n",
              "    <tr>\n",
              "      <th>2</th>\n",
              "      <td>0.767490</td>\n",
              "      <td>0.673748</td>\n",
              "      <td>0</td>\n",
              "    </tr>\n",
              "    <tr>\n",
              "      <th>3</th>\n",
              "      <td>-0.237187</td>\n",
              "      <td>0.780564</td>\n",
              "      <td>1</td>\n",
              "    </tr>\n",
              "    <tr>\n",
              "      <th>4</th>\n",
              "      <td>-0.322448</td>\n",
              "      <td>0.915866</td>\n",
              "      <td>0</td>\n",
              "    </tr>\n",
              "    <tr>\n",
              "      <th>5</th>\n",
              "      <td>0.513240</td>\n",
              "      <td>-0.648223</td>\n",
              "      <td>1</td>\n",
              "    </tr>\n",
              "    <tr>\n",
              "      <th>6</th>\n",
              "      <td>-0.814669</td>\n",
              "      <td>0.622648</td>\n",
              "      <td>0</td>\n",
              "    </tr>\n",
              "    <tr>\n",
              "      <th>7</th>\n",
              "      <td>0.856162</td>\n",
              "      <td>0.592311</td>\n",
              "      <td>0</td>\n",
              "    </tr>\n",
              "    <tr>\n",
              "      <th>8</th>\n",
              "      <td>0.489827</td>\n",
              "      <td>-0.902810</td>\n",
              "      <td>0</td>\n",
              "    </tr>\n",
              "    <tr>\n",
              "      <th>9</th>\n",
              "      <td>0.782450</td>\n",
              "      <td>-0.166628</td>\n",
              "      <td>1</td>\n",
              "    </tr>\n",
              "  </tbody>\n",
              "</table>\n",
              "</div>\n",
              "    <div class=\"colab-df-buttons\">\n",
              "\n",
              "  <div class=\"colab-df-container\">\n",
              "    <button class=\"colab-df-convert\" onclick=\"convertToInteractive('df-6f48035f-c495-4ff3-b2f6-fe62baead9fc')\"\n",
              "            title=\"Convert this dataframe to an interactive table.\"\n",
              "            style=\"display:none;\">\n",
              "\n",
              "  <svg xmlns=\"http://www.w3.org/2000/svg\" height=\"24px\" viewBox=\"0 -960 960 960\">\n",
              "    <path d=\"M120-120v-720h720v720H120Zm60-500h600v-160H180v160Zm220 220h160v-160H400v160Zm0 220h160v-160H400v160ZM180-400h160v-160H180v160Zm440 0h160v-160H620v160ZM180-180h160v-160H180v160Zm440 0h160v-160H620v160Z\"/>\n",
              "  </svg>\n",
              "    </button>\n",
              "\n",
              "  <style>\n",
              "    .colab-df-container {\n",
              "      display:flex;\n",
              "      gap: 12px;\n",
              "    }\n",
              "\n",
              "    .colab-df-convert {\n",
              "      background-color: #E8F0FE;\n",
              "      border: none;\n",
              "      border-radius: 50%;\n",
              "      cursor: pointer;\n",
              "      display: none;\n",
              "      fill: #1967D2;\n",
              "      height: 32px;\n",
              "      padding: 0 0 0 0;\n",
              "      width: 32px;\n",
              "    }\n",
              "\n",
              "    .colab-df-convert:hover {\n",
              "      background-color: #E2EBFA;\n",
              "      box-shadow: 0px 1px 2px rgba(60, 64, 67, 0.3), 0px 1px 3px 1px rgba(60, 64, 67, 0.15);\n",
              "      fill: #174EA6;\n",
              "    }\n",
              "\n",
              "    .colab-df-buttons div {\n",
              "      margin-bottom: 4px;\n",
              "    }\n",
              "\n",
              "    [theme=dark] .colab-df-convert {\n",
              "      background-color: #3B4455;\n",
              "      fill: #D2E3FC;\n",
              "    }\n",
              "\n",
              "    [theme=dark] .colab-df-convert:hover {\n",
              "      background-color: #434B5C;\n",
              "      box-shadow: 0px 1px 3px 1px rgba(0, 0, 0, 0.15);\n",
              "      filter: drop-shadow(0px 1px 2px rgba(0, 0, 0, 0.3));\n",
              "      fill: #FFFFFF;\n",
              "    }\n",
              "  </style>\n",
              "\n",
              "    <script>\n",
              "      const buttonEl =\n",
              "        document.querySelector('#df-6f48035f-c495-4ff3-b2f6-fe62baead9fc button.colab-df-convert');\n",
              "      buttonEl.style.display =\n",
              "        google.colab.kernel.accessAllowed ? 'block' : 'none';\n",
              "\n",
              "      async function convertToInteractive(key) {\n",
              "        const element = document.querySelector('#df-6f48035f-c495-4ff3-b2f6-fe62baead9fc');\n",
              "        const dataTable =\n",
              "          await google.colab.kernel.invokeFunction('convertToInteractive',\n",
              "                                                    [key], {});\n",
              "        if (!dataTable) return;\n",
              "\n",
              "        const docLinkHtml = 'Like what you see? Visit the ' +\n",
              "          '<a target=\"_blank\" href=https://colab.research.google.com/notebooks/data_table.ipynb>data table notebook</a>'\n",
              "          + ' to learn more about interactive tables.';\n",
              "        element.innerHTML = '';\n",
              "        dataTable['output_type'] = 'display_data';\n",
              "        await google.colab.output.renderOutput(dataTable, element);\n",
              "        const docLink = document.createElement('div');\n",
              "        docLink.innerHTML = docLinkHtml;\n",
              "        element.appendChild(docLink);\n",
              "      }\n",
              "    </script>\n",
              "  </div>\n",
              "\n",
              "\n",
              "<div id=\"df-6b4292bf-8fa7-453c-8757-2e7e4f12edba\">\n",
              "  <button class=\"colab-df-quickchart\" onclick=\"quickchart('df-6b4292bf-8fa7-453c-8757-2e7e4f12edba')\"\n",
              "            title=\"Suggest charts\"\n",
              "            style=\"display:none;\">\n",
              "\n",
              "<svg xmlns=\"http://www.w3.org/2000/svg\" height=\"24px\"viewBox=\"0 0 24 24\"\n",
              "     width=\"24px\">\n",
              "    <g>\n",
              "        <path d=\"M19 3H5c-1.1 0-2 .9-2 2v14c0 1.1.9 2 2 2h14c1.1 0 2-.9 2-2V5c0-1.1-.9-2-2-2zM9 17H7v-7h2v7zm4 0h-2V7h2v10zm4 0h-2v-4h2v4z\"/>\n",
              "    </g>\n",
              "</svg>\n",
              "  </button>\n",
              "\n",
              "<style>\n",
              "  .colab-df-quickchart {\n",
              "      --bg-color: #E8F0FE;\n",
              "      --fill-color: #1967D2;\n",
              "      --hover-bg-color: #E2EBFA;\n",
              "      --hover-fill-color: #174EA6;\n",
              "      --disabled-fill-color: #AAA;\n",
              "      --disabled-bg-color: #DDD;\n",
              "  }\n",
              "\n",
              "  [theme=dark] .colab-df-quickchart {\n",
              "      --bg-color: #3B4455;\n",
              "      --fill-color: #D2E3FC;\n",
              "      --hover-bg-color: #434B5C;\n",
              "      --hover-fill-color: #FFFFFF;\n",
              "      --disabled-bg-color: #3B4455;\n",
              "      --disabled-fill-color: #666;\n",
              "  }\n",
              "\n",
              "  .colab-df-quickchart {\n",
              "    background-color: var(--bg-color);\n",
              "    border: none;\n",
              "    border-radius: 50%;\n",
              "    cursor: pointer;\n",
              "    display: none;\n",
              "    fill: var(--fill-color);\n",
              "    height: 32px;\n",
              "    padding: 0;\n",
              "    width: 32px;\n",
              "  }\n",
              "\n",
              "  .colab-df-quickchart:hover {\n",
              "    background-color: var(--hover-bg-color);\n",
              "    box-shadow: 0 1px 2px rgba(60, 64, 67, 0.3), 0 1px 3px 1px rgba(60, 64, 67, 0.15);\n",
              "    fill: var(--button-hover-fill-color);\n",
              "  }\n",
              "\n",
              "  .colab-df-quickchart-complete:disabled,\n",
              "  .colab-df-quickchart-complete:disabled:hover {\n",
              "    background-color: var(--disabled-bg-color);\n",
              "    fill: var(--disabled-fill-color);\n",
              "    box-shadow: none;\n",
              "  }\n",
              "\n",
              "  .colab-df-spinner {\n",
              "    border: 2px solid var(--fill-color);\n",
              "    border-color: transparent;\n",
              "    border-bottom-color: var(--fill-color);\n",
              "    animation:\n",
              "      spin 1s steps(1) infinite;\n",
              "  }\n",
              "\n",
              "  @keyframes spin {\n",
              "    0% {\n",
              "      border-color: transparent;\n",
              "      border-bottom-color: var(--fill-color);\n",
              "      border-left-color: var(--fill-color);\n",
              "    }\n",
              "    20% {\n",
              "      border-color: transparent;\n",
              "      border-left-color: var(--fill-color);\n",
              "      border-top-color: var(--fill-color);\n",
              "    }\n",
              "    30% {\n",
              "      border-color: transparent;\n",
              "      border-left-color: var(--fill-color);\n",
              "      border-top-color: var(--fill-color);\n",
              "      border-right-color: var(--fill-color);\n",
              "    }\n",
              "    40% {\n",
              "      border-color: transparent;\n",
              "      border-right-color: var(--fill-color);\n",
              "      border-top-color: var(--fill-color);\n",
              "    }\n",
              "    60% {\n",
              "      border-color: transparent;\n",
              "      border-right-color: var(--fill-color);\n",
              "    }\n",
              "    80% {\n",
              "      border-color: transparent;\n",
              "      border-right-color: var(--fill-color);\n",
              "      border-bottom-color: var(--fill-color);\n",
              "    }\n",
              "    90% {\n",
              "      border-color: transparent;\n",
              "      border-bottom-color: var(--fill-color);\n",
              "    }\n",
              "  }\n",
              "</style>\n",
              "\n",
              "  <script>\n",
              "    async function quickchart(key) {\n",
              "      const quickchartButtonEl =\n",
              "        document.querySelector('#' + key + ' button');\n",
              "      quickchartButtonEl.disabled = true;  // To prevent multiple clicks.\n",
              "      quickchartButtonEl.classList.add('colab-df-spinner');\n",
              "      try {\n",
              "        const charts = await google.colab.kernel.invokeFunction(\n",
              "            'suggestCharts', [key], {});\n",
              "      } catch (error) {\n",
              "        console.error('Error during call to suggestCharts:', error);\n",
              "      }\n",
              "      quickchartButtonEl.classList.remove('colab-df-spinner');\n",
              "      quickchartButtonEl.classList.add('colab-df-quickchart-complete');\n",
              "    }\n",
              "    (() => {\n",
              "      let quickchartButtonEl =\n",
              "        document.querySelector('#df-6b4292bf-8fa7-453c-8757-2e7e4f12edba button');\n",
              "      quickchartButtonEl.style.display =\n",
              "        google.colab.kernel.accessAllowed ? 'block' : 'none';\n",
              "    })();\n",
              "  </script>\n",
              "</div>\n",
              "\n",
              "    </div>\n",
              "  </div>\n"
            ],
            "application/vnd.google.colaboratory.intrinsic+json": {
              "type": "dataframe",
              "variable_name": "circles_df",
              "summary": "{\n  \"name\": \"circles_df\",\n  \"rows\": 1000,\n  \"fields\": [\n    {\n      \"column\": \"X1\",\n      \"properties\": {\n        \"dtype\": \"number\",\n        \"std\": 0.6408240971708109,\n        \"min\": -1.0485786675724926,\n        \"max\": 1.056951904115188,\n        \"samples\": [\n          -0.8853707982833424,\n          -0.8896630333517442,\n          -0.6078906834106672\n        ],\n        \"num_unique_values\": 1000,\n        \"semantic_type\": \"\",\n        \"description\": \"\"\n      }\n    },\n    {\n      \"column\": \"X2\",\n      \"properties\": {\n        \"dtype\": \"number\",\n        \"std\": 0.641586450798767,\n        \"min\": -1.0338396416447673,\n        \"max\": 1.0434509018367952,\n        \"samples\": [\n          -0.4307520187636379,\n          -0.40594144005613375,\n          0.7103449245141511\n        ],\n        \"num_unique_values\": 1000,\n        \"semantic_type\": \"\",\n        \"description\": \"\"\n      }\n    },\n    {\n      \"column\": \"label\",\n      \"properties\": {\n        \"dtype\": \"number\",\n        \"std\": 0,\n        \"min\": 0,\n        \"max\": 1,\n        \"samples\": [\n          0,\n          1\n        ],\n        \"num_unique_values\": 2,\n        \"semantic_type\": \"\",\n        \"description\": \"\"\n      }\n    }\n  ]\n}"
            }
          },
          "metadata": {},
          "execution_count": 241
        }
      ]
    },
    {
      "cell_type": "code",
      "source": [],
      "metadata": {
        "id": "pduwOSVokEbE"
      },
      "execution_count": 241,
      "outputs": []
    },
    {
      "cell_type": "markdown",
      "source": [
        " Identifying the shape of the Dataset"
      ],
      "metadata": {
        "id": "_x9fRbdZnTtQ"
      }
    },
    {
      "cell_type": "code",
      "source": [
        "print(f\"The shape of input feature is {X.shape} , Shape of target feature is {y.shape}\")"
      ],
      "metadata": {
        "colab": {
          "base_uri": "https://localhost:8080/"
        },
        "id": "rT7DSUQ-oXgE",
        "outputId": "862eca93-1724-4273-e4b5-6203a1b2cb42"
      },
      "execution_count": 242,
      "outputs": [
        {
          "output_type": "stream",
          "name": "stdout",
          "text": [
            "The shape of input feature is (1000, 2) , Shape of target feature is (1000,)\n"
          ]
        }
      ]
    },
    {
      "cell_type": "markdown",
      "source": [
        "# 1 Turning our data to Tensors and creating the splits"
      ],
      "metadata": {
        "id": "-ckrYgNYomJD"
      }
    },
    {
      "cell_type": "code",
      "source": [],
      "metadata": {
        "id": "2vRVyJzloos2"
      },
      "execution_count": 242,
      "outputs": []
    },
    {
      "cell_type": "code",
      "source": [
        "X = torch.from_numpy(X).type(torch.float)\n",
        "y = torch.from_numpy(y).type(torch.float)"
      ],
      "metadata": {
        "id": "r5erHnL9o1oM"
      },
      "execution_count": 243,
      "outputs": []
    },
    {
      "cell_type": "code",
      "source": [
        "X [:5] , y[:5]"
      ],
      "metadata": {
        "colab": {
          "base_uri": "https://localhost:8080/"
        },
        "id": "_1AYiKLdo8o6",
        "outputId": "568a2010-5b95-42af-c064-c57fe6d84ce7"
      },
      "execution_count": 244,
      "outputs": [
        {
          "output_type": "execute_result",
          "data": {
            "text/plain": [
              "(tensor([[-0.0768,  0.8298],\n",
              "         [ 0.6041, -0.7921],\n",
              "         [ 0.7675,  0.6737],\n",
              "         [-0.2372,  0.7806],\n",
              "         [-0.3224,  0.9159]]),\n",
              " tensor([1., 0., 0., 1., 0.]))"
            ]
          },
          "metadata": {},
          "execution_count": 244
        }
      ]
    },
    {
      "cell_type": "code",
      "source": [
        "type(X) , X.dtype , type(y)"
      ],
      "metadata": {
        "colab": {
          "base_uri": "https://localhost:8080/"
        },
        "id": "8fJP3aYDo9cu",
        "outputId": "d81919c1-6191-4b5c-b283-69686689774e"
      },
      "execution_count": 245,
      "outputs": [
        {
          "output_type": "execute_result",
          "data": {
            "text/plain": [
              "(torch.Tensor, torch.float32, torch.Tensor)"
            ]
          },
          "metadata": {},
          "execution_count": 245
        }
      ]
    },
    {
      "cell_type": "markdown",
      "source": [
        "Splitting the data"
      ],
      "metadata": {
        "id": "xhG9fk5Wqr0v"
      }
    },
    {
      "cell_type": "code",
      "source": [
        "from sklearn.model_selection import train_test_split\n",
        "x_train , x_test = train_test_split(X , random_state = 42 , test_size = 0.2)\n",
        "y_train , y_test = train_test_split(y , random_state = 42 , test_size = 0.2)"
      ],
      "metadata": {
        "id": "ABQ4xHuEqbnQ"
      },
      "execution_count": 246,
      "outputs": []
    },
    {
      "cell_type": "code",
      "source": [
        "print(f\"X_train's shape is {x_train.shape} , y_train's shape is {y_train.shape} , X_test's shape is {x_test.shape} , y_test's shape is {y_test.shape}\")"
      ],
      "metadata": {
        "colab": {
          "base_uri": "https://localhost:8080/"
        },
        "id": "sb1NIw4nrWPg",
        "outputId": "9cf37309-4a40-4f31-9190-3a556af4d15a"
      },
      "execution_count": 247,
      "outputs": [
        {
          "output_type": "stream",
          "name": "stdout",
          "text": [
            "X_train's shape is torch.Size([800, 2]) , y_train's shape is torch.Size([800]) , X_test's shape is torch.Size([200, 2]) , y_test's shape is torch.Size([200])\n"
          ]
        }
      ]
    },
    {
      "cell_type": "code",
      "source": [],
      "metadata": {
        "id": "Mf3eTww3rXgm"
      },
      "execution_count": 247,
      "outputs": []
    },
    {
      "cell_type": "code",
      "source": [],
      "metadata": {
        "id": "rEl_RkcOsJz1"
      },
      "execution_count": 247,
      "outputs": []
    },
    {
      "cell_type": "markdown",
      "source": [
        "#2 Build or pick a pretrained model\n",
        "\n",
        "To do so, we want to:\n",
        "1. Setup device agonistic code so our code will run on an accelerator (GPU) if there is one\n",
        "\n",
        "\n",
        "2. Construct a model (by subclassing nn.Module)\n",
        "\n",
        "\n",
        "3. Define a loss function and optimizer\n",
        "\n",
        "\n",
        "4. Create a training and test loop"
      ],
      "metadata": {
        "id": "pFCojo2qsYqM"
      }
    },
    {
      "cell_type": "code",
      "source": [
        "#Make device agnostic code\n",
        "\n",
        "device = \"cuda\" if torch.cuda.is_available() else \"cpu\"\n",
        "device"
      ],
      "metadata": {
        "colab": {
          "base_uri": "https://localhost:8080/",
          "height": 35
        },
        "id": "ujUiCKxisdbZ",
        "outputId": "3d3db46c-70db-4046-9d2b-308859842ad5"
      },
      "execution_count": 248,
      "outputs": [
        {
          "output_type": "execute_result",
          "data": {
            "text/plain": [
              "'cpu'"
            ],
            "application/vnd.google.colaboratory.intrinsic+json": {
              "type": "string"
            }
          },
          "metadata": {},
          "execution_count": 248
        }
      ]
    },
    {
      "cell_type": "code",
      "source": [],
      "metadata": {
        "id": "s7_AiG5yt5M4"
      },
      "execution_count": 248,
      "outputs": []
    },
    {
      "cell_type": "markdown",
      "source": [
        "Now we've setup device agnostic code, let's create a model that:\n",
        "1. Subclasses nn. Module (almost all models in PyTorch subclass nn. Module)\n",
        "2. Create 2 nn.Linear() layers that are capable of handling the shapes of our data\n",
        "3. Defines a forward() method that outlines the forward pass (or forward computation) of the model\n",
        "4. Instatiate an instance of our model class and send it to the target device"
      ],
      "metadata": {
        "id": "TAjFOiV-w8fb"
      }
    },
    {
      "cell_type": "code",
      "source": [
        "class CircleModel(nn.Module):\n",
        "  #1.Construct a model that subclasses nn.Module\n",
        "  def __init__(self):\n",
        "    super().__init__()\n",
        "\n",
        "    #2.Create 2 nn.Linear layers capable of handling the shapes of our data\n",
        "    self.layer_1 = nn.Linear(in_features = 2 , out_features = 5)\n",
        "    self.layer_2 = nn.Linear(in_features = 5 , out_features = 1)\n",
        "\n",
        "    #3.Define a forward() method that outlines the forward pass\n",
        "  def forward(self,x):\n",
        "    return self.layer_2(self.layer_1(x)) #x -> layer_1 -> layer_2 -> output\n",
        "\n",
        "#4.Instantiate instance of our model and send it to the target device\n",
        "model_0 = CircleModel()"
      ],
      "metadata": {
        "id": "Xd_gBD9sw9eI"
      },
      "execution_count": 249,
      "outputs": []
    },
    {
      "cell_type": "code",
      "source": [
        "model_0"
      ],
      "metadata": {
        "colab": {
          "base_uri": "https://localhost:8080/"
        },
        "id": "NV8ZX1CSBSBC",
        "outputId": "bef9cc47-f823-4a1b-e2ed-b75b75dd6504"
      },
      "execution_count": 250,
      "outputs": [
        {
          "output_type": "execute_result",
          "data": {
            "text/plain": [
              "CircleModel(\n",
              "  (layer_1): Linear(in_features=2, out_features=5, bias=True)\n",
              "  (layer_2): Linear(in_features=5, out_features=1, bias=True)\n",
              ")"
            ]
          },
          "metadata": {},
          "execution_count": 250
        }
      ]
    },
    {
      "cell_type": "markdown",
      "source": [
        "Random initialization of the model"
      ],
      "metadata": {
        "id": "T7O11ZSnDsWq"
      }
    },
    {
      "cell_type": "code",
      "source": [
        "list(model_0.parameters())"
      ],
      "metadata": {
        "colab": {
          "base_uri": "https://localhost:8080/"
        },
        "id": "0mCGgikzBZca",
        "outputId": "18372112-2d55-4832-c54b-101393f03feb"
      },
      "execution_count": 251,
      "outputs": [
        {
          "output_type": "execute_result",
          "data": {
            "text/plain": [
              "[Parameter containing:\n",
              " tensor([[ 0.5406,  0.5869],\n",
              "         [-0.1657,  0.6496],\n",
              "         [-0.1549,  0.1427],\n",
              "         [-0.3443,  0.4153],\n",
              "         [ 0.6233, -0.5188]], requires_grad=True),\n",
              " Parameter containing:\n",
              " tensor([0.6146, 0.1323, 0.5224, 0.0958, 0.3410], requires_grad=True),\n",
              " Parameter containing:\n",
              " tensor([[-0.0631,  0.3448,  0.0661, -0.2088,  0.1140]], requires_grad=True),\n",
              " Parameter containing:\n",
              " tensor([-0.2060], requires_grad=True)]"
            ]
          },
          "metadata": {},
          "execution_count": 251
        }
      ]
    },
    {
      "cell_type": "markdown",
      "source": [
        "Replicating the above model using nn.Sequential()"
      ],
      "metadata": {
        "id": "_3F_ZSAsHIdP"
      }
    },
    {
      "cell_type": "markdown",
      "source": [
        "This was the same as previous defined in class"
      ],
      "metadata": {
        "id": "fvaNEjUjapzQ"
      }
    },
    {
      "cell_type": "code",
      "source": [
        "model = nn.Sequential(\n",
        "   nn.Linear(in_features = 2 , out_features = 5),\n",
        "   nn.Linear(in_features = 5 , out_features = 1)\n",
        ")\n",
        "model"
      ],
      "metadata": {
        "id": "2ghegJXQCqLm",
        "colab": {
          "base_uri": "https://localhost:8080/"
        },
        "outputId": "dba79c92-987c-4a0c-a7d0-62f0d9d8c128"
      },
      "execution_count": 252,
      "outputs": [
        {
          "output_type": "execute_result",
          "data": {
            "text/plain": [
              "Sequential(\n",
              "  (0): Linear(in_features=2, out_features=5, bias=True)\n",
              "  (1): Linear(in_features=5, out_features=1, bias=True)\n",
              ")"
            ]
          },
          "metadata": {},
          "execution_count": 252
        }
      ]
    },
    {
      "cell_type": "code",
      "source": [
        "model.state_dict()"
      ],
      "metadata": {
        "colab": {
          "base_uri": "https://localhost:8080/"
        },
        "id": "9y7IYr_jG5dx",
        "outputId": "b54297fe-e934-40b9-dfb4-563597d48c3b"
      },
      "execution_count": 253,
      "outputs": [
        {
          "output_type": "execute_result",
          "data": {
            "text/plain": [
              "OrderedDict([('0.weight',\n",
              "              tensor([[-0.0829, -0.2872],\n",
              "                      [ 0.4691, -0.5582],\n",
              "                      [-0.3260, -0.1997],\n",
              "                      [-0.4252,  0.0667],\n",
              "                      [-0.6984,  0.6386]])),\n",
              "             ('0.bias', tensor([-0.6007,  0.5459,  0.1177, -0.2296,  0.4370])),\n",
              "             ('1.weight',\n",
              "              tensor([[ 0.0697,  0.3613,  0.0489, -0.1410,  0.1202]])),\n",
              "             ('1.bias', tensor([-0.1213]))])"
            ]
          },
          "metadata": {},
          "execution_count": 253
        }
      ]
    },
    {
      "cell_type": "markdown",
      "source": [
        "Setting up Loss function and optimizer"
      ],
      "metadata": {
        "id": "2QmmaTYRJVPb"
      }
    },
    {
      "cell_type": "code",
      "source": [
        "loss_fn = nn.BCEWithLogitsLoss() #sigmoid activation function"
      ],
      "metadata": {
        "id": "evsWcJm5HYmM"
      },
      "execution_count": 254,
      "outputs": []
    },
    {
      "cell_type": "code",
      "source": [
        "learning_rate = 0.001\n",
        "optimizer = torch.optim.SGD(model.parameters() , learning_rate)"
      ],
      "metadata": {
        "id": "WElRIZy_JsSx"
      },
      "execution_count": 255,
      "outputs": []
    },
    {
      "cell_type": "markdown",
      "source": [
        "Acuuracy"
      ],
      "metadata": {
        "id": "XxCVWbzpNbQV"
      }
    },
    {
      "cell_type": "code",
      "source": [
        "from sklearn.metrics import accuracy_score"
      ],
      "metadata": {
        "id": "iY15v1beKQ8O"
      },
      "execution_count": 256,
      "outputs": []
    },
    {
      "cell_type": "markdown",
      "source": [
        "##3.Train Model\n",
        "\n",
        "To train our model , we're going to need to build a training loop\n",
        "\n",
        "1.Forward pass\n",
        "\n",
        "2.Calculate the Loss\n",
        "\n",
        "3.Optimizer zero grad\n",
        "\n",
        "4.Loss backward (Backpropagation)\n",
        "\n",
        "5.Optimizer step (gradient descent)"
      ],
      "metadata": {
        "id": "EkZABhYXhBHc"
      }
    },
    {
      "cell_type": "code",
      "source": [
        "model"
      ],
      "metadata": {
        "colab": {
          "base_uri": "https://localhost:8080/"
        },
        "id": "QndjldoQhhe6",
        "outputId": "f4ce3a90-7459-4fd5-d4eb-71a8f3b56ab0"
      },
      "execution_count": 257,
      "outputs": [
        {
          "output_type": "execute_result",
          "data": {
            "text/plain": [
              "Sequential(\n",
              "  (0): Linear(in_features=2, out_features=5, bias=True)\n",
              "  (1): Linear(in_features=5, out_features=1, bias=True)\n",
              ")"
            ]
          },
          "metadata": {},
          "execution_count": 257
        }
      ]
    },
    {
      "cell_type": "code",
      "source": [],
      "metadata": {
        "id": "UI5erXA7j_cE"
      },
      "execution_count": 257,
      "outputs": []
    },
    {
      "cell_type": "markdown",
      "source": [
        "Our model outputs are going to be raw logits\n",
        "\n",
        "\n",
        "We can convert these logits into prediction probabilities by passing them to some kind of activation function (eg. sigmoid for binary classification and softmax for multiclass classification)\n",
        "\n",
        "Then we can convert our model's prediction probabilities to prediction labels by either rounding them or taking the argmax()"
      ],
      "metadata": {
        "id": "lmvo6JSfkzej"
      }
    },
    {
      "cell_type": "markdown",
      "source": [
        "logits -> pred probs -> pred labels"
      ],
      "metadata": {
        "id": "OQ4l-Cjune9-"
      }
    },
    {
      "cell_type": "code",
      "source": [
        "model.eval()\n",
        "with torch.inference_mode():\n",
        "  y_logits = model(x_test)"
      ],
      "metadata": {
        "id": "b5TA_9QYlG37"
      },
      "execution_count": 258,
      "outputs": []
    },
    {
      "cell_type": "code",
      "source": [
        "y_logits[:5]"
      ],
      "metadata": {
        "colab": {
          "base_uri": "https://localhost:8080/"
        },
        "id": "vI3qyt3Alkn8",
        "outputId": "4346ce8e-e945-449a-a1b6-2b9009f176f5"
      },
      "execution_count": 259,
      "outputs": [
        {
          "output_type": "execute_result",
          "data": {
            "text/plain": [
              "tensor([[ 0.0858],\n",
              "        [ 0.0812],\n",
              "        [-0.0671],\n",
              "        [-0.0381],\n",
              "        [ 0.1627]])"
            ]
          },
          "metadata": {},
          "execution_count": 259
        }
      ]
    },
    {
      "cell_type": "code",
      "source": [
        "y_test[:5]"
      ],
      "metadata": {
        "colab": {
          "base_uri": "https://localhost:8080/"
        },
        "id": "HisY1vj3luMF",
        "outputId": "36a7d38e-4f26-4275-989a-5d01fc45ecd3"
      },
      "execution_count": 260,
      "outputs": [
        {
          "output_type": "execute_result",
          "data": {
            "text/plain": [
              "tensor([0., 0., 0., 1., 1.])"
            ]
          },
          "metadata": {},
          "execution_count": 260
        }
      ]
    },
    {
      "cell_type": "code",
      "source": [
        "#Use the sigmoid function on our model logits to turn them into prediction probabilities\n",
        "y_pred_probs = torch.sigmoid(y_logits)\n",
        "y_pred_probs[:5]"
      ],
      "metadata": {
        "colab": {
          "base_uri": "https://localhost:8080/"
        },
        "id": "pWOmFBy_mG_u",
        "outputId": "5456a762-7017-4e67-d2f7-bc2df40b1376"
      },
      "execution_count": 261,
      "outputs": [
        {
          "output_type": "execute_result",
          "data": {
            "text/plain": [
              "tensor([[0.5214],\n",
              "        [0.5203],\n",
              "        [0.4832],\n",
              "        [0.4905],\n",
              "        [0.5406]])"
            ]
          },
          "metadata": {},
          "execution_count": 261
        }
      ]
    },
    {
      "cell_type": "markdown",
      "source": [
        "Now it's time to change it to either 0 or 1"
      ],
      "metadata": {
        "id": "A2pQenTqm89L"
      }
    },
    {
      "cell_type": "code",
      "source": [
        "y_pred = torch.round(y_pred_probs)[:5]"
      ],
      "metadata": {
        "id": "u4C-Yj6ImbIw"
      },
      "execution_count": 262,
      "outputs": []
    },
    {
      "cell_type": "code",
      "source": [
        "#Removing the extra dimensions\n",
        "y_pred.squeeze()"
      ],
      "metadata": {
        "colab": {
          "base_uri": "https://localhost:8080/"
        },
        "id": "HcXJ-iQgmlgf",
        "outputId": "be8955c6-b580-447e-d7b2-b58c0fa3cd1b"
      },
      "execution_count": 263,
      "outputs": [
        {
          "output_type": "execute_result",
          "data": {
            "text/plain": [
              "tensor([1., 1., 0., 0., 1.])"
            ]
          },
          "metadata": {},
          "execution_count": 263
        }
      ]
    },
    {
      "cell_type": "code",
      "source": [
        "y_pred"
      ],
      "metadata": {
        "colab": {
          "base_uri": "https://localhost:8080/"
        },
        "id": "-L-RL9HpnuD0",
        "outputId": "39e8c012-77e2-41dd-c484-2f50f44c34b8"
      },
      "execution_count": 264,
      "outputs": [
        {
          "output_type": "execute_result",
          "data": {
            "text/plain": [
              "tensor([[1.],\n",
              "        [1.],\n",
              "        [0.],\n",
              "        [0.],\n",
              "        [1.]])"
            ]
          },
          "metadata": {},
          "execution_count": 264
        }
      ]
    },
    {
      "cell_type": "markdown",
      "source": [
        "Building a training and testing loop"
      ],
      "metadata": {
        "id": "x0FEfv1rnvbu"
      }
    },
    {
      "cell_type": "code",
      "source": [
        "x_train[:5]"
      ],
      "metadata": {
        "colab": {
          "base_uri": "https://localhost:8080/"
        },
        "id": "D5E4H0m9wDWH",
        "outputId": "0b224963-0fed-4867-ea1e-2b6c8e5827cb"
      },
      "execution_count": 265,
      "outputs": [
        {
          "output_type": "execute_result",
          "data": {
            "text/plain": [
              "tensor([[ 0.5198, -0.5714],\n",
              "        [-0.9582,  0.0930],\n",
              "        [ 0.3858,  0.9404],\n",
              "        [-0.8026,  0.6636],\n",
              "        [-0.1563, -0.8040]])"
            ]
          },
          "metadata": {},
          "execution_count": 265
        }
      ]
    },
    {
      "cell_type": "code",
      "source": [
        "y_train[:5]"
      ],
      "metadata": {
        "colab": {
          "base_uri": "https://localhost:8080/"
        },
        "id": "JQlE52lDwq2x",
        "outputId": "c95a4b8d-ffbc-4f5a-ad69-c4460a7fbec0"
      },
      "execution_count": 266,
      "outputs": [
        {
          "output_type": "execute_result",
          "data": {
            "text/plain": [
              "tensor([1., 0., 0., 0., 1.])"
            ]
          },
          "metadata": {},
          "execution_count": 266
        }
      ]
    },
    {
      "cell_type": "code",
      "source": [
        "from sklearn.metrics import accuracy_score"
      ],
      "metadata": {
        "id": "kXrm4YIm3E1h"
      },
      "execution_count": 267,
      "outputs": []
    },
    {
      "cell_type": "code",
      "source": [],
      "metadata": {
        "id": "EOncYfHtFWPE"
      },
      "execution_count": 267,
      "outputs": []
    },
    {
      "cell_type": "code",
      "source": [
        "torch.manual_seed(42)\n",
        "epochs = 101\n",
        "for epoch in range(epochs):\n",
        "  model.train()\n",
        "  with torch.inference_mode():\n",
        "    #1.Forward pass\n",
        "    train_logits = model(x_train).squeeze()\n",
        "    train_pred = torch.round(torch.sigmoid(train_logits))\n",
        "\n",
        "    #2.Calculate the loss/accuarcy\n",
        "    loss_train = loss_fn(train_logits,y_train)\n",
        "    accuracy_train = accuracy_score(train_pred,y_train)*100\n",
        "    loss_train.requires_grad_()\n",
        "\n",
        "     #3.Optimizer.zero_grad\n",
        "    optimizer.zero_grad()\n",
        "\n",
        "     #4.Backpropagation\n",
        "    loss_train.backward()\n",
        "\n",
        "    #5.Optimizer.step()\n",
        "    optimizer.step()\n",
        "\n",
        "\n",
        "  model.eval()\n",
        "  with torch.inference_mode():\n",
        "\n",
        "    #1.Forward pass\n",
        "    test_logits = model(x_test).squeeze()\n",
        "    test_pred = torch.round(torch.sigmoid(test_logits))\n",
        "\n",
        "    #2.Calculate the loss/accuracy\n",
        "    loss_test = loss_fn(test_logits,y_test)\n",
        "    accuracy_test = accuracy_score(test_pred,y_test)*100\n",
        "\n",
        "    #3.Optimizer.zero_grad\n",
        "    optimizer.zero_grad()\n",
        "    loss_test.requires_grad_()\n",
        "\n",
        "    #4.Backpropagation\n",
        "    loss_test.backward()\n",
        "\n",
        "    #5.Optimizer.step\n",
        "    optimizer.step()\n",
        "\n",
        "\n",
        "    if(epoch%20==0):\n",
        "      print(f\"The epoch's iteration number is {epoch} \\n \\n Loss of train is {loss_train} \\n accuracy of train is {accuracy_train}\")\n",
        "      print(f\"Loss of test is {loss_test} \\n accuracy of test is {accuracy_test}\")\n",
        "      print(\"\\n \\n\")\n"
      ],
      "metadata": {
        "colab": {
          "base_uri": "https://localhost:8080/"
        },
        "id": "Nfo2kglxwsfh",
        "outputId": "95fb1346-867e-4b91-cd3a-be48b84f535a"
      },
      "execution_count": 268,
      "outputs": [
        {
          "output_type": "stream",
          "name": "stdout",
          "text": [
            "The epoch's iteration number is 0 \n",
            " \n",
            " Loss of train is 0.6982197761535645 \n",
            " accuracy of train is 53.0\n",
            "Loss of test is 0.6931395530700684 \n",
            " accuracy of test is 54.50000000000001\n",
            "\n",
            " \n",
            "\n",
            "The epoch's iteration number is 20 \n",
            " \n",
            " Loss of train is 0.6982197761535645 \n",
            " accuracy of train is 53.0\n",
            "Loss of test is 0.6931395530700684 \n",
            " accuracy of test is 54.50000000000001\n",
            "\n",
            " \n",
            "\n",
            "The epoch's iteration number is 40 \n",
            " \n",
            " Loss of train is 0.6982197761535645 \n",
            " accuracy of train is 53.0\n",
            "Loss of test is 0.6931395530700684 \n",
            " accuracy of test is 54.50000000000001\n",
            "\n",
            " \n",
            "\n",
            "The epoch's iteration number is 60 \n",
            " \n",
            " Loss of train is 0.6982197761535645 \n",
            " accuracy of train is 53.0\n",
            "Loss of test is 0.6931395530700684 \n",
            " accuracy of test is 54.50000000000001\n",
            "\n",
            " \n",
            "\n",
            "The epoch's iteration number is 80 \n",
            " \n",
            " Loss of train is 0.6982197761535645 \n",
            " accuracy of train is 53.0\n",
            "Loss of test is 0.6931395530700684 \n",
            " accuracy of test is 54.50000000000001\n",
            "\n",
            " \n",
            "\n",
            "The epoch's iteration number is 100 \n",
            " \n",
            " Loss of train is 0.6982197761535645 \n",
            " accuracy of train is 53.0\n",
            "Loss of test is 0.6931395530700684 \n",
            " accuracy of test is 54.50000000000001\n",
            "\n",
            " \n",
            "\n"
          ]
        }
      ]
    },
    {
      "cell_type": "code",
      "source": [],
      "metadata": {
        "id": "hFXelx8ZcRpd"
      },
      "execution_count": 268,
      "outputs": []
    },
    {
      "cell_type": "markdown",
      "source": [
        "#Improving a model\n",
        "\n",
        "* Add more layers : Give the model more chances to learn about patterns in the data\n",
        "\n",
        "* Add more hidden units : Go from 5 hidden units to 10 hidden units\n",
        "\n",
        "* Changing the activation function\n",
        "\n",
        "* Change the learning rate\n",
        "\n",
        "* Change the loss function"
      ],
      "metadata": {
        "id": "QOj3a-t3BkH4"
      }
    },
    {
      "cell_type": "code",
      "source": [],
      "metadata": {
        "id": "K7V9lnxT7LEo"
      },
      "execution_count": 268,
      "outputs": []
    },
    {
      "cell_type": "markdown",
      "source": [
        "Let's try and improve our model by :\n",
        "\n",
        "* Adding more hidden units : 5 -> 10\n",
        "\n",
        "* Increase the number of layers : 2 -> 3\n",
        "\n",
        "* Increase the number of epochs : 100 -> 1000"
      ],
      "metadata": {
        "id": "MvgzANMsf3ZN"
      }
    },
    {
      "cell_type": "code",
      "source": [
        "class CircleModelV1(nn.Module):\n",
        "  def __init__(self):\n",
        "    super().__init__()\n",
        "    self.layer_1 = nn.Linear(in_features = 2 , out_features = 10)\n",
        "    self.layer_2 = nn.Linear(in_features = 10 , out_features = 10)\n",
        "    self.layer_3 = nn.Linear(in_features = 10 , out_features = 1)\n",
        "  def forward(self,x):\n",
        "    return self.layer_3(self.layer_2(self.layer_1(x)))\n",
        "\n",
        "model_1 = CircleModelV1()\n",
        "model_1"
      ],
      "metadata": {
        "id": "Z60QMuBTDk29",
        "colab": {
          "base_uri": "https://localhost:8080/"
        },
        "outputId": "311dd4a5-d680-4a0d-fa0a-b83dbee19c6a"
      },
      "execution_count": 269,
      "outputs": [
        {
          "output_type": "execute_result",
          "data": {
            "text/plain": [
              "CircleModelV1(\n",
              "  (layer_1): Linear(in_features=2, out_features=10, bias=True)\n",
              "  (layer_2): Linear(in_features=10, out_features=10, bias=True)\n",
              "  (layer_3): Linear(in_features=10, out_features=1, bias=True)\n",
              ")"
            ]
          },
          "metadata": {},
          "execution_count": 269
        }
      ]
    },
    {
      "cell_type": "code",
      "source": [
        "# Create a loss function\n",
        "# Create an optimizer\n",
        "# Write a training and evaluation loop for model_1"
      ],
      "metadata": {
        "id": "AfHn430OghHi"
      },
      "execution_count": 270,
      "outputs": []
    },
    {
      "cell_type": "code",
      "source": [
        "def accuracy(x,y):\n",
        "  acc = torch.eq(x,y).sum().item()\n",
        "  return acc/len(x)\n",
        ""
      ],
      "metadata": {
        "id": "oZPjMoTgm3JW"
      },
      "execution_count": 271,
      "outputs": []
    },
    {
      "cell_type": "code",
      "source": [
        "from sklearn.metrics import accuracy_score"
      ],
      "metadata": {
        "id": "46xzPIbApcBy"
      },
      "execution_count": 272,
      "outputs": []
    },
    {
      "cell_type": "code",
      "source": [
        "loss_fn = nn.BCEWithLogitsLoss()\n",
        "optimizer = torch.optim.Adam(params = model_1.parameters() , lr = 0.0001)"
      ],
      "metadata": {
        "id": "jN6eVPRdhuBV"
      },
      "execution_count": 273,
      "outputs": []
    },
    {
      "cell_type": "code",
      "source": [
        "torch.manual_seed(42)\n",
        "epochs = 1001\n",
        "\n",
        "for epoch in range(epochs):\n",
        "\n",
        "  #Training\n",
        "  model_1.train()\n",
        "\n",
        "  #1.Forward pass\n",
        "  train_logits = model_1(x_train).squeeze()\n",
        "  train_preds = torch.round(torch.sigmoid(train_logits))\n",
        "\n",
        "  #2.Calculate loss/acc\n",
        "  train_loss = loss_fn(train_preds,y_train)\n",
        "  train_accuracy = accuracy_score(train_preds.detach().numpy() , y_train.detach().numpy())*100\n",
        "\n",
        "  #3.Optimizer zero grad\n",
        "  optimizer.zero_grad()\n",
        "\n",
        "  #4.Loss Backward (Back Propagation)\n",
        "  train_loss.backward()\n",
        "\n",
        "  #5.Optimizer.step (gradoient descent)\n",
        "  optimizer.step()\n",
        "\n",
        "\n",
        "##Testing :\n",
        "  model_1.eval()\n",
        "  with torch.inference_mode():\n",
        "    #1.Forward pass\n",
        "    test_logits = model_1(x_test).squeeze()\n",
        "    test_preds = torch.round(torch.sigmoid(test_logits))\n",
        "    test_loss = loss_fn(test_preds,y_test)\n",
        "    test_accuracy = accuracy_score(test_preds.detach().numpy() , y_test.detach().numpy())*100\n",
        "\n",
        "  if(epoch % 250 == 0):\n",
        "      print(f\"The epoch's iteration number is {epoch} \\n \\n Loss of train is {train_loss} \\n accuracy of train is {train_accuracy}\")\n",
        "      print(f\"Loss of test is {test_loss} \\n accuracy of test is {test_accuracy}\")\n",
        "      print(\"\\n \\n\")"
      ],
      "metadata": {
        "colab": {
          "base_uri": "https://localhost:8080/"
        },
        "id": "1Y-58nH0h1uf",
        "outputId": "61797b58-f203-483d-9852-54cb06f5243e"
      },
      "execution_count": 274,
      "outputs": [
        {
          "output_type": "stream",
          "name": "stdout",
          "text": [
            "The epoch's iteration number is 0 \n",
            " \n",
            " Loss of train is 0.7613121271133423 \n",
            " accuracy of train is 50.125\n",
            "Loss of test is 0.7509140968322754 \n",
            " accuracy of test is 52.0\n",
            "\n",
            " \n",
            "\n",
            "The epoch's iteration number is 250 \n",
            " \n",
            " Loss of train is 0.7613121271133423 \n",
            " accuracy of train is 50.125\n",
            "Loss of test is 0.7509140968322754 \n",
            " accuracy of test is 52.0\n",
            "\n",
            " \n",
            "\n",
            "The epoch's iteration number is 500 \n",
            " \n",
            " Loss of train is 0.7613121271133423 \n",
            " accuracy of train is 50.125\n",
            "Loss of test is 0.7509140968322754 \n",
            " accuracy of test is 52.0\n",
            "\n",
            " \n",
            "\n",
            "The epoch's iteration number is 750 \n",
            " \n",
            " Loss of train is 0.7613121271133423 \n",
            " accuracy of train is 50.125\n",
            "Loss of test is 0.7509140968322754 \n",
            " accuracy of test is 52.0\n",
            "\n",
            " \n",
            "\n",
            "The epoch's iteration number is 1000 \n",
            " \n",
            " Loss of train is 0.7613121271133423 \n",
            " accuracy of train is 50.125\n",
            "Loss of test is 0.7509140968322754 \n",
            " accuracy of test is 52.0\n",
            "\n",
            " \n",
            "\n"
          ]
        }
      ]
    },
    {
      "cell_type": "code",
      "source": [],
      "metadata": {
        "id": "sxgrEolziZOg"
      },
      "execution_count": 274,
      "outputs": []
    }
  ]
}